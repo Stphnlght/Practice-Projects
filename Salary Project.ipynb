{
 "cells": [
  {
   "cell_type": "code",
   "execution_count": 82,
   "id": "babe5d79",
   "metadata": {},
   "outputs": [],
   "source": [
    "# importing relevant libraries\n",
    "import numpy as np\n",
    "import pandas as pd\n",
    "import seaborn as sns\n",
    "import sklearn\n",
    "import matplotlib.pyplot as plt\n",
    "from sklearn.model_selection import cross_val_score\n",
    "from sklearn.linear_model import LinearRegression\n",
    "from sklearn.metrics import accuracy_score, confusion_matrix, classification_report, r2_score\n",
    "from sklearn.model_selection import train_test_split\n",
    "import warnings\n",
    "warnings.filterwarnings('ignore')\n",
    "from sklearn.preprocessing import MinMaxScaler"
   ]
  },
  {
   "cell_type": "code",
   "execution_count": 2,
   "id": "f59c4a82",
   "metadata": {},
   "outputs": [
    {
     "data": {
      "text/plain": [
       "Index(['rank', 'discipline', 'yrs.since.phd', 'yrs.service', 'sex', 'salary'], dtype='object')"
      ]
     },
     "execution_count": 2,
     "metadata": {},
     "output_type": "execute_result"
    }
   ],
   "source": [
    "# importing the dataset\n",
    "df = pd.read_csv('Salaries.csv')\n",
    "df.columns"
   ]
  },
  {
   "cell_type": "code",
   "execution_count": 4,
   "id": "18ee7b06",
   "metadata": {},
   "outputs": [
    {
     "data": {
      "text/html": [
       "<div>\n",
       "<style scoped>\n",
       "    .dataframe tbody tr th:only-of-type {\n",
       "        vertical-align: middle;\n",
       "    }\n",
       "\n",
       "    .dataframe tbody tr th {\n",
       "        vertical-align: top;\n",
       "    }\n",
       "\n",
       "    .dataframe thead th {\n",
       "        text-align: right;\n",
       "    }\n",
       "</style>\n",
       "<table border=\"1\" class=\"dataframe\">\n",
       "  <thead>\n",
       "    <tr style=\"text-align: right;\">\n",
       "      <th></th>\n",
       "      <th>rank</th>\n",
       "      <th>discipline</th>\n",
       "      <th>yrs.since.phd</th>\n",
       "      <th>yrs.service</th>\n",
       "      <th>sex</th>\n",
       "      <th>salary</th>\n",
       "    </tr>\n",
       "  </thead>\n",
       "  <tbody>\n",
       "    <tr>\n",
       "      <th>0</th>\n",
       "      <td>Prof</td>\n",
       "      <td>B</td>\n",
       "      <td>19</td>\n",
       "      <td>18</td>\n",
       "      <td>Male</td>\n",
       "      <td>139750</td>\n",
       "    </tr>\n",
       "    <tr>\n",
       "      <th>1</th>\n",
       "      <td>Prof</td>\n",
       "      <td>B</td>\n",
       "      <td>20</td>\n",
       "      <td>16</td>\n",
       "      <td>Male</td>\n",
       "      <td>173200</td>\n",
       "    </tr>\n",
       "    <tr>\n",
       "      <th>2</th>\n",
       "      <td>AsstProf</td>\n",
       "      <td>B</td>\n",
       "      <td>4</td>\n",
       "      <td>3</td>\n",
       "      <td>Male</td>\n",
       "      <td>79750</td>\n",
       "    </tr>\n",
       "    <tr>\n",
       "      <th>3</th>\n",
       "      <td>Prof</td>\n",
       "      <td>B</td>\n",
       "      <td>45</td>\n",
       "      <td>39</td>\n",
       "      <td>Male</td>\n",
       "      <td>115000</td>\n",
       "    </tr>\n",
       "    <tr>\n",
       "      <th>4</th>\n",
       "      <td>Prof</td>\n",
       "      <td>B</td>\n",
       "      <td>40</td>\n",
       "      <td>41</td>\n",
       "      <td>Male</td>\n",
       "      <td>141500</td>\n",
       "    </tr>\n",
       "    <tr>\n",
       "      <th>5</th>\n",
       "      <td>AssocProf</td>\n",
       "      <td>B</td>\n",
       "      <td>6</td>\n",
       "      <td>6</td>\n",
       "      <td>Male</td>\n",
       "      <td>97000</td>\n",
       "    </tr>\n",
       "    <tr>\n",
       "      <th>6</th>\n",
       "      <td>Prof</td>\n",
       "      <td>B</td>\n",
       "      <td>30</td>\n",
       "      <td>23</td>\n",
       "      <td>Male</td>\n",
       "      <td>175000</td>\n",
       "    </tr>\n",
       "    <tr>\n",
       "      <th>7</th>\n",
       "      <td>Prof</td>\n",
       "      <td>B</td>\n",
       "      <td>45</td>\n",
       "      <td>45</td>\n",
       "      <td>Male</td>\n",
       "      <td>147765</td>\n",
       "    </tr>\n",
       "    <tr>\n",
       "      <th>8</th>\n",
       "      <td>Prof</td>\n",
       "      <td>B</td>\n",
       "      <td>21</td>\n",
       "      <td>20</td>\n",
       "      <td>Male</td>\n",
       "      <td>119250</td>\n",
       "    </tr>\n",
       "    <tr>\n",
       "      <th>9</th>\n",
       "      <td>Prof</td>\n",
       "      <td>B</td>\n",
       "      <td>18</td>\n",
       "      <td>18</td>\n",
       "      <td>Female</td>\n",
       "      <td>129000</td>\n",
       "    </tr>\n",
       "  </tbody>\n",
       "</table>\n",
       "</div>"
      ],
      "text/plain": [
       "        rank discipline  yrs.since.phd  yrs.service     sex  salary\n",
       "0       Prof          B             19           18    Male  139750\n",
       "1       Prof          B             20           16    Male  173200\n",
       "2   AsstProf          B              4            3    Male   79750\n",
       "3       Prof          B             45           39    Male  115000\n",
       "4       Prof          B             40           41    Male  141500\n",
       "5  AssocProf          B              6            6    Male   97000\n",
       "6       Prof          B             30           23    Male  175000\n",
       "7       Prof          B             45           45    Male  147765\n",
       "8       Prof          B             21           20    Male  119250\n",
       "9       Prof          B             18           18  Female  129000"
      ]
     },
     "execution_count": 4,
     "metadata": {},
     "output_type": "execute_result"
    }
   ],
   "source": [
    "# checking a sample of the data\n",
    "df.head(10)"
   ]
  },
  {
   "cell_type": "code",
   "execution_count": 7,
   "id": "0bf45454",
   "metadata": {},
   "outputs": [
    {
     "data": {
      "text/plain": [
       "rank             object\n",
       "discipline       object\n",
       "yrs.since.phd     int64\n",
       "yrs.service       int64\n",
       "sex              object\n",
       "salary            int64\n",
       "dtype: object"
      ]
     },
     "execution_count": 7,
     "metadata": {},
     "output_type": "execute_result"
    }
   ],
   "source": [
    "# checking the data types\n",
    "df.dtypes"
   ]
  },
  {
   "cell_type": "code",
   "execution_count": 8,
   "id": "7ccd87c2",
   "metadata": {},
   "outputs": [
    {
     "data": {
      "text/plain": [
       "rank             0\n",
       "discipline       0\n",
       "yrs.since.phd    0\n",
       "yrs.service      0\n",
       "sex              0\n",
       "salary           0\n",
       "dtype: int64"
      ]
     },
     "execution_count": 8,
     "metadata": {},
     "output_type": "execute_result"
    }
   ],
   "source": [
    "# checking for null values\n",
    "df.isnull().sum()"
   ]
  },
  {
   "cell_type": "code",
   "execution_count": 24,
   "id": "68f27e59",
   "metadata": {},
   "outputs": [
    {
     "data": {
      "text/plain": [
       "Index(['discipline', 'sex'], dtype='object')"
      ]
     },
     "execution_count": 24,
     "metadata": {},
     "output_type": "execute_result"
    }
   ],
   "source": [
    "# seperating the nominal values for evaluation and pre-processing\n",
    "df_nominal = df[['discipline', 'sex']].copy()\n",
    "df_nominal.columns"
   ]
  },
  {
   "cell_type": "code",
   "execution_count": 25,
   "id": "4dc97be7",
   "metadata": {},
   "outputs": [
    {
     "name": "stdout",
     "output_type": "stream",
     "text": [
      "B    216\n",
      "A    181\n",
      "Name: discipline, dtype: int64\n"
     ]
    },
    {
     "data": {
      "image/png": "[encoded data removed]",
      "text/plain": [
       "<Figure size 432x288 with 1 Axes>"
      ]
     },
     "metadata": {
      "needs_background": "light"
     },
     "output_type": "display_data"
    }
   ],
   "source": [
    "# visualization of the data to get insights\n",
    "dx = sns.countplot(x='discipline',data=df_nominal)\n",
    "print(df_nominal['discipline'].value_counts())"
   ]
  },
  {
   "cell_type": "code",
   "execution_count": 26,
   "id": "6a4b2527",
   "metadata": {},
   "outputs": [
    {
     "name": "stdout",
     "output_type": "stream",
     "text": [
      "Male      358\n",
      "Female     39\n",
      "Name: sex, dtype: int64\n"
     ]
    },
    {
     "data": {
      "image/png": "[encoded data removed]",
      "text/plain": [
       "<Figure size 432x288 with 1 Axes>"
      ]
     },
     "metadata": {
      "needs_background": "light"
     },
     "output_type": "display_data"
    }
   ],
   "source": [
    "bx = sns.countplot(x='sex',data=df_nominal)\n",
    "print(df_nominal['sex'].value_counts())"
   ]
  },
  {
   "cell_type": "code",
   "execution_count": 28,
   "id": "98384ab8",
   "metadata": {},
   "outputs": [
    {
     "data": {
      "text/plain": [
       "Index(['rank'], dtype='object')"
      ]
     },
     "execution_count": 28,
     "metadata": {},
     "output_type": "execute_result"
    }
   ],
   "source": [
    "# ordinal feature\n",
    "df_ordinal = df[['rank']].copy()\n",
    "df_ordinal.columns"
   ]
  },
  {
   "cell_type": "code",
   "execution_count": 35,
   "id": "f2f37c38",
   "metadata": {},
   "outputs": [
    {
     "data": {
      "image/png": "[encoded data removed]",
      "text/plain": [
       "<Figure size 360x360 with 1 Axes>"
      ]
     },
     "metadata": {
      "needs_background": "light"
     },
     "output_type": "display_data"
    }
   ],
   "source": [
    "# visualization of the data to get insights\n",
    "cx = sns.catplot(x='rank', y='salary',data=df)"
   ]
  },
  {
   "cell_type": "code",
   "execution_count": 37,
   "id": "77dc244c",
   "metadata": {},
   "outputs": [
    {
     "data": {
      "text/plain": [
       "Index(['yrs.since.phd', 'yrs.service', 'salary'], dtype='object')"
      ]
     },
     "execution_count": 37,
     "metadata": {},
     "output_type": "execute_result"
    }
   ],
   "source": [
    "# checking the distribution of continuous features\n",
    "df_cont = df[['yrs.since.phd', 'yrs.service','salary']].copy()\n",
    "df_cont.columns"
   ]
  },
  {
   "cell_type": "code",
   "execution_count": 39,
   "id": "cfebf254",
   "metadata": {
    "scrolled": true
   },
   "outputs": [
    {
     "data": {
      "text/plain": [
       "<AxesSubplot:xlabel='yrs.service', ylabel='Density'>"
      ]
     },
     "execution_count": 39,
     "metadata": {},
     "output_type": "execute_result"
    },
    {
     "data": {
      "image/png": "[encoded data removed]",
      "text/plain": [
       "<Figure size 432x288 with 1 Axes>"
      ]
     },
     "metadata": {
      "needs_background": "light"
     },
     "output_type": "display_data"
    }
   ],
   "source": [
    "# visualizing the data\n",
    "sns.distplot(df_cont['yrs.service'], kde=True)"
   ]
  },
  {
   "cell_type": "code",
   "execution_count": 40,
   "id": "ae190d98",
   "metadata": {},
   "outputs": [
    {
     "data": {
      "text/plain": [
       "<AxesSubplot:xlabel='yrs.since.phd', ylabel='Density'>"
      ]
     },
     "execution_count": 40,
     "metadata": {},
     "output_type": "execute_result"
    },
    {
     "data": {
      "image/png": "[encoded data removed]",
      "text/plain": [
       "<Figure size 432x288 with 1 Axes>"
      ]
     },
     "metadata": {
      "needs_background": "light"
     },
     "output_type": "display_data"
    }
   ],
   "source": [
    "sns.distplot(df_cont['yrs.since.phd'], kde=True)"
   ]
  },
  {
   "cell_type": "code",
   "execution_count": 41,
   "id": "c9fd4ac2",
   "metadata": {},
   "outputs": [
    {
     "data": {
      "text/plain": [
       "<AxesSubplot:xlabel='salary', ylabel='Density'>"
      ]
     },
     "execution_count": 41,
     "metadata": {},
     "output_type": "execute_result"
    },
    {
     "data": {
      "image/png": "[encoded data removed]",
      "text/plain": [
       "<Figure size 432x288 with 1 Axes>"
      ]
     },
     "metadata": {
      "needs_background": "light"
     },
     "output_type": "display_data"
    }
   ],
   "source": [
    "sns.distplot(df_cont['salary'], kde=True)"
   ]
  },
  {
   "cell_type": "code",
   "execution_count": 119,
   "id": "b6f8abf5",
   "metadata": {},
   "outputs": [],
   "source": [
    "# applying logarithmic transformation\n",
    "df['salary']=np.log(df['salary'])"
   ]
  },
  {
   "cell_type": "code",
   "execution_count": 120,
   "id": "71e3a9ac",
   "metadata": {},
   "outputs": [
    {
     "data": {
      "text/plain": [
       "<AxesSubplot:xlabel='salary', ylabel='Density'>"
      ]
     },
     "execution_count": 120,
     "metadata": {},
     "output_type": "execute_result"
    },
    {
     "data": {
      "image/png": "[encoded data removed]",
      "text/plain": [
       "<Figure size 432x288 with 1 Axes>"
      ]
     },
     "metadata": {
      "needs_background": "light"
     },
     "output_type": "display_data"
    }
   ],
   "source": [
    "sns.distplot(df['salary'], kde=True)"
   ]
  },
  {
   "cell_type": "code",
   "execution_count": 121,
   "id": "3c71d466",
   "metadata": {},
   "outputs": [],
   "source": [
    "from sklearn.preprocessing import OrdinalEncoder\n",
    "enc = OrdinalEncoder()"
   ]
  },
  {
   "cell_type": "code",
   "execution_count": 122,
   "id": "d9eda1e0",
   "metadata": {},
   "outputs": [],
   "source": [
    "for i in df.columns:\n",
    "    if df[i].dtypes == 'object':\n",
    "        df[i] = enc.fit_transform(df[i].values.reshape(-1,1))"
   ]
  },
  {
   "cell_type": "code",
   "execution_count": 123,
   "id": "ca637ad6",
   "metadata": {},
   "outputs": [
    {
     "data": {
      "text/html": [
       "<div>\n",
       "<style scoped>\n",
       "    .dataframe tbody tr th:only-of-type {\n",
       "        vertical-align: middle;\n",
       "    }\n",
       "\n",
       "    .dataframe tbody tr th {\n",
       "        vertical-align: top;\n",
       "    }\n",
       "\n",
       "    .dataframe thead th {\n",
       "        text-align: right;\n",
       "    }\n",
       "</style>\n",
       "<table border=\"1\" class=\"dataframe\">\n",
       "  <thead>\n",
       "    <tr style=\"text-align: right;\">\n",
       "      <th></th>\n",
       "      <th>rank</th>\n",
       "      <th>discipline</th>\n",
       "      <th>yrs.since.phd</th>\n",
       "      <th>yrs.service</th>\n",
       "      <th>sex</th>\n",
       "      <th>salary</th>\n",
       "    </tr>\n",
       "  </thead>\n",
       "  <tbody>\n",
       "    <tr>\n",
       "      <th>0</th>\n",
       "      <td>2.0</td>\n",
       "      <td>1.0</td>\n",
       "      <td>19</td>\n",
       "      <td>18</td>\n",
       "      <td>1.0</td>\n",
       "      <td>11.847610</td>\n",
       "    </tr>\n",
       "    <tr>\n",
       "      <th>1</th>\n",
       "      <td>2.0</td>\n",
       "      <td>1.0</td>\n",
       "      <td>20</td>\n",
       "      <td>16</td>\n",
       "      <td>1.0</td>\n",
       "      <td>12.062202</td>\n",
       "    </tr>\n",
       "    <tr>\n",
       "      <th>2</th>\n",
       "      <td>1.0</td>\n",
       "      <td>1.0</td>\n",
       "      <td>4</td>\n",
       "      <td>3</td>\n",
       "      <td>1.0</td>\n",
       "      <td>11.286652</td>\n",
       "    </tr>\n",
       "    <tr>\n",
       "      <th>3</th>\n",
       "      <td>2.0</td>\n",
       "      <td>1.0</td>\n",
       "      <td>45</td>\n",
       "      <td>39</td>\n",
       "      <td>1.0</td>\n",
       "      <td>11.652687</td>\n",
       "    </tr>\n",
       "    <tr>\n",
       "      <th>4</th>\n",
       "      <td>2.0</td>\n",
       "      <td>1.0</td>\n",
       "      <td>40</td>\n",
       "      <td>41</td>\n",
       "      <td>1.0</td>\n",
       "      <td>11.860055</td>\n",
       "    </tr>\n",
       "    <tr>\n",
       "      <th>...</th>\n",
       "      <td>...</td>\n",
       "      <td>...</td>\n",
       "      <td>...</td>\n",
       "      <td>...</td>\n",
       "      <td>...</td>\n",
       "      <td>...</td>\n",
       "    </tr>\n",
       "    <tr>\n",
       "      <th>392</th>\n",
       "      <td>2.0</td>\n",
       "      <td>0.0</td>\n",
       "      <td>33</td>\n",
       "      <td>30</td>\n",
       "      <td>1.0</td>\n",
       "      <td>11.543513</td>\n",
       "    </tr>\n",
       "    <tr>\n",
       "      <th>393</th>\n",
       "      <td>2.0</td>\n",
       "      <td>0.0</td>\n",
       "      <td>31</td>\n",
       "      <td>19</td>\n",
       "      <td>1.0</td>\n",
       "      <td>11.922144</td>\n",
       "    </tr>\n",
       "    <tr>\n",
       "      <th>394</th>\n",
       "      <td>2.0</td>\n",
       "      <td>0.0</td>\n",
       "      <td>42</td>\n",
       "      <td>25</td>\n",
       "      <td>1.0</td>\n",
       "      <td>11.530156</td>\n",
       "    </tr>\n",
       "    <tr>\n",
       "      <th>395</th>\n",
       "      <td>2.0</td>\n",
       "      <td>0.0</td>\n",
       "      <td>25</td>\n",
       "      <td>15</td>\n",
       "      <td>1.0</td>\n",
       "      <td>11.465089</td>\n",
       "    </tr>\n",
       "    <tr>\n",
       "      <th>396</th>\n",
       "      <td>1.0</td>\n",
       "      <td>0.0</td>\n",
       "      <td>8</td>\n",
       "      <td>4</td>\n",
       "      <td>1.0</td>\n",
       "      <td>11.302636</td>\n",
       "    </tr>\n",
       "  </tbody>\n",
       "</table>\n",
       "<p>394 rows × 6 columns</p>\n",
       "</div>"
      ],
      "text/plain": [
       "     rank  discipline  yrs.since.phd  yrs.service  sex     salary\n",
       "0     2.0         1.0             19           18  1.0  11.847610\n",
       "1     2.0         1.0             20           16  1.0  12.062202\n",
       "2     1.0         1.0              4            3  1.0  11.286652\n",
       "3     2.0         1.0             45           39  1.0  11.652687\n",
       "4     2.0         1.0             40           41  1.0  11.860055\n",
       "..    ...         ...            ...          ...  ...        ...\n",
       "392   2.0         0.0             33           30  1.0  11.543513\n",
       "393   2.0         0.0             31           19  1.0  11.922144\n",
       "394   2.0         0.0             42           25  1.0  11.530156\n",
       "395   2.0         0.0             25           15  1.0  11.465089\n",
       "396   1.0         0.0              8            4  1.0  11.302636\n",
       "\n",
       "[394 rows x 6 columns]"
      ]
     },
     "execution_count": 123,
     "metadata": {},
     "output_type": "execute_result"
    }
   ],
   "source": [
    "df"
   ]
  },
  {
   "cell_type": "code",
   "execution_count": 124,
   "id": "c0394e59",
   "metadata": {},
   "outputs": [
    {
     "data": {
      "text/html": [
       "<div>\n",
       "<style scoped>\n",
       "    .dataframe tbody tr th:only-of-type {\n",
       "        vertical-align: middle;\n",
       "    }\n",
       "\n",
       "    .dataframe tbody tr th {\n",
       "        vertical-align: top;\n",
       "    }\n",
       "\n",
       "    .dataframe thead th {\n",
       "        text-align: right;\n",
       "    }\n",
       "</style>\n",
       "<table border=\"1\" class=\"dataframe\">\n",
       "  <thead>\n",
       "    <tr style=\"text-align: right;\">\n",
       "      <th></th>\n",
       "      <th>rank</th>\n",
       "      <th>discipline</th>\n",
       "      <th>yrs.since.phd</th>\n",
       "      <th>yrs.service</th>\n",
       "      <th>sex</th>\n",
       "      <th>salary</th>\n",
       "    </tr>\n",
       "  </thead>\n",
       "  <tbody>\n",
       "    <tr>\n",
       "      <th>count</th>\n",
       "      <td>394.000000</td>\n",
       "      <td>394.000000</td>\n",
       "      <td>394.000000</td>\n",
       "      <td>394.000000</td>\n",
       "      <td>394.000000</td>\n",
       "      <td>394.000000</td>\n",
       "    </tr>\n",
       "    <tr>\n",
       "      <th>mean</th>\n",
       "      <td>1.505076</td>\n",
       "      <td>0.545685</td>\n",
       "      <td>22.205584</td>\n",
       "      <td>17.525381</td>\n",
       "      <td>0.901015</td>\n",
       "      <td>11.602265</td>\n",
       "    </tr>\n",
       "    <tr>\n",
       "      <th>std</th>\n",
       "      <td>0.759151</td>\n",
       "      <td>0.498542</td>\n",
       "      <td>12.864764</td>\n",
       "      <td>12.940483</td>\n",
       "      <td>0.299021</td>\n",
       "      <td>0.254560</td>\n",
       "    </tr>\n",
       "    <tr>\n",
       "      <th>min</th>\n",
       "      <td>0.000000</td>\n",
       "      <td>0.000000</td>\n",
       "      <td>1.000000</td>\n",
       "      <td>0.000000</td>\n",
       "      <td>0.000000</td>\n",
       "      <td>10.964744</td>\n",
       "    </tr>\n",
       "    <tr>\n",
       "      <th>25%</th>\n",
       "      <td>1.000000</td>\n",
       "      <td>0.000000</td>\n",
       "      <td>12.000000</td>\n",
       "      <td>7.000000</td>\n",
       "      <td>1.000000</td>\n",
       "      <td>11.418615</td>\n",
       "    </tr>\n",
       "    <tr>\n",
       "      <th>50%</th>\n",
       "      <td>2.000000</td>\n",
       "      <td>1.000000</td>\n",
       "      <td>21.000000</td>\n",
       "      <td>16.000000</td>\n",
       "      <td>1.000000</td>\n",
       "      <td>11.582218</td>\n",
       "    </tr>\n",
       "    <tr>\n",
       "      <th>75%</th>\n",
       "      <td>2.000000</td>\n",
       "      <td>1.000000</td>\n",
       "      <td>31.750000</td>\n",
       "      <td>26.000000</td>\n",
       "      <td>1.000000</td>\n",
       "      <td>11.804475</td>\n",
       "    </tr>\n",
       "    <tr>\n",
       "      <th>max</th>\n",
       "      <td>2.000000</td>\n",
       "      <td>1.000000</td>\n",
       "      <td>56.000000</td>\n",
       "      <td>60.000000</td>\n",
       "      <td>1.000000</td>\n",
       "      <td>12.179729</td>\n",
       "    </tr>\n",
       "  </tbody>\n",
       "</table>\n",
       "</div>"
      ],
      "text/plain": [
       "             rank  discipline  yrs.since.phd  yrs.service         sex  \\\n",
       "count  394.000000  394.000000     394.000000   394.000000  394.000000   \n",
       "mean     1.505076    0.545685      22.205584    17.525381    0.901015   \n",
       "std      0.759151    0.498542      12.864764    12.940483    0.299021   \n",
       "min      0.000000    0.000000       1.000000     0.000000    0.000000   \n",
       "25%      1.000000    0.000000      12.000000     7.000000    1.000000   \n",
       "50%      2.000000    1.000000      21.000000    16.000000    1.000000   \n",
       "75%      2.000000    1.000000      31.750000    26.000000    1.000000   \n",
       "max      2.000000    1.000000      56.000000    60.000000    1.000000   \n",
       "\n",
       "           salary  \n",
       "count  394.000000  \n",
       "mean    11.602265  \n",
       "std      0.254560  \n",
       "min     10.964744  \n",
       "25%     11.418615  \n",
       "50%     11.582218  \n",
       "75%     11.804475  \n",
       "max     12.179729  "
      ]
     },
     "execution_count": 124,
     "metadata": {},
     "output_type": "execute_result"
    }
   ],
   "source": [
    "# check the statistical description\n",
    "df.describe()"
   ]
  },
  {
   "cell_type": "code",
   "execution_count": 125,
   "id": "22c57615",
   "metadata": {},
   "outputs": [
    {
     "data": {
      "text/plain": [
       "<AxesSubplot:>"
      ]
     },
     "execution_count": 125,
     "metadata": {},
     "output_type": "execute_result"
    },
    {
     "data": {
      "image/png": "[encoded data removed]",
      "text/plain": [
       "<Figure size 720x360 with 2 Axes>"
      ]
     },
     "metadata": {
      "needs_background": "light"
     },
     "output_type": "display_data"
    }
   ],
   "source": [
    "plt.figure(figsize=(10,5))\n",
    "sns.heatmap(df.describe()[1:],annot=True,fmt='0.2f')"
   ]
  },
  {
   "cell_type": "code",
   "execution_count": 126,
   "id": "1429c6bf",
   "metadata": {},
   "outputs": [
    {
     "data": {
      "text/plain": [
       "sex              0.145022\n",
       "discipline       0.186174\n",
       "yrs.service      0.334120\n",
       "yrs.since.phd    0.416463\n",
       "rank             0.547333\n",
       "salary           1.000000\n",
       "Name: salary, dtype: float64"
      ]
     },
     "execution_count": 126,
     "metadata": {},
     "output_type": "execute_result"
    }
   ],
   "source": [
    "# checking the correlation with tthe target vssriable\n",
    "df.corr()['salary'].sort_values()"
   ]
  },
  {
   "cell_type": "code",
   "execution_count": 127,
   "id": "a996145b",
   "metadata": {},
   "outputs": [
    {
     "data": {
      "text/plain": [
       "<AxesSubplot:>"
      ]
     },
     "execution_count": 127,
     "metadata": {},
     "output_type": "execute_result"
    },
    {
     "data": {
      "image/png": "[encoded data removed]",
      "text/plain": [
       "<Figure size 720x360 with 2 Axes>"
      ]
     },
     "metadata": {
      "needs_background": "light"
     },
     "output_type": "display_data"
    }
   ],
   "source": [
    "plt.figure(figsize=(10,5))\n",
    "sns.heatmap(df.corr(),annot=True,fmt='0.2f')"
   ]
  },
  {
   "cell_type": "code",
   "execution_count": 128,
   "id": "fabcd7b4",
   "metadata": {},
   "outputs": [
    {
     "data": {
      "image/png": "[encoded data removed]",
      "text/plain": [
       "<Figure size 720x360 with 1 Axes>"
      ]
     },
     "metadata": {
      "needs_background": "light"
     },
     "output_type": "display_data"
    }
   ],
   "source": [
    "plt.figure(figsize=(10,5))\n",
    "df.corr()['salary'].sort_values(ascending=False).drop(['salary']).plot(kind='bar', color='c')\n",
    "plt.title('Correlation')\n",
    "plt.xlabel('feature')\n",
    "plt.ylabel('target')\n",
    "plt.show()"
   ]
  },
  {
   "cell_type": "code",
   "execution_count": 129,
   "id": "65fc3332",
   "metadata": {},
   "outputs": [
    {
     "data": {
      "text/plain": [
       "sex             -2.695870\n",
       "rank            -1.139606\n",
       "discipline      -0.184211\n",
       "salary           0.073807\n",
       "yrs.since.phd    0.314751\n",
       "yrs.service      0.658470\n",
       "dtype: float64"
      ]
     },
     "execution_count": 129,
     "metadata": {},
     "output_type": "execute_result"
    }
   ],
   "source": [
    "df.skew().sort_values()"
   ]
  },
  {
   "cell_type": "code",
   "execution_count": 130,
   "id": "ffa07196",
   "metadata": {},
   "outputs": [
    {
     "data": {
      "text/plain": [
       "<AxesSubplot:>"
      ]
     },
     "execution_count": 130,
     "metadata": {},
     "output_type": "execute_result"
    },
    {
     "data": {
      "image/png": "[encoded data removed]",
      "text/plain": [
       "<Figure size 432x288 with 1 Axes>"
      ]
     },
     "metadata": {
      "needs_background": "light"
     },
     "output_type": "display_data"
    }
   ],
   "source": [
    "# checking for outliers\n",
    "df['sex'].plot.box()"
   ]
  },
  {
   "cell_type": "code",
   "execution_count": 131,
   "id": "26d50fd2",
   "metadata": {},
   "outputs": [
    {
     "data": {
      "text/plain": [
       "<AxesSubplot:>"
      ]
     },
     "execution_count": 131,
     "metadata": {},
     "output_type": "execute_result"
    },
    {
     "data": {
      "image/png": "[encoded data removed]",
      "text/plain": [
       "<Figure size 432x288 with 1 Axes>"
      ]
     },
     "metadata": {
      "needs_background": "light"
     },
     "output_type": "display_data"
    }
   ],
   "source": [
    "df['discipline'].plot.box()"
   ]
  },
  {
   "cell_type": "code",
   "execution_count": 132,
   "id": "1cebcc77",
   "metadata": {},
   "outputs": [
    {
     "data": {
      "text/plain": [
       "<AxesSubplot:>"
      ]
     },
     "execution_count": 132,
     "metadata": {},
     "output_type": "execute_result"
    },
    {
     "data": {
      "image/png": "[encoded data removed]",
      "text/plain": [
       "<Figure size 432x288 with 1 Axes>"
      ]
     },
     "metadata": {
      "needs_background": "light"
     },
     "output_type": "display_data"
    }
   ],
   "source": [
    "df['rank'].plot.box()"
   ]
  },
  {
   "cell_type": "code",
   "execution_count": 133,
   "id": "becc7086",
   "metadata": {},
   "outputs": [
    {
     "data": {
      "text/plain": [
       "<AxesSubplot:>"
      ]
     },
     "execution_count": 133,
     "metadata": {},
     "output_type": "execute_result"
    },
    {
     "data": {
      "image/png": "[encoded data removed]",
      "text/plain": [
       "<Figure size 432x288 with 1 Axes>"
      ]
     },
     "metadata": {
      "needs_background": "light"
     },
     "output_type": "display_data"
    }
   ],
   "source": [
    "df['yrs.service'].plot.box()"
   ]
  },
  {
   "cell_type": "code",
   "execution_count": 134,
   "id": "ff7464a7",
   "metadata": {},
   "outputs": [
    {
     "data": {
      "text/plain": [
       "<AxesSubplot:>"
      ]
     },
     "execution_count": 134,
     "metadata": {},
     "output_type": "execute_result"
    },
    {
     "data": {
      "image/png": "[encoded data removed]",
      "text/plain": [
       "<Figure size 432x288 with 1 Axes>"
      ]
     },
     "metadata": {
      "needs_background": "light"
     },
     "output_type": "display_data"
    }
   ],
   "source": [
    "df['yrs.since.phd'].plot.box()"
   ]
  },
  {
   "cell_type": "code",
   "execution_count": 135,
   "id": "1748e221",
   "metadata": {},
   "outputs": [
    {
     "data": {
      "text/plain": [
       "<AxesSubplot:>"
      ]
     },
     "execution_count": 135,
     "metadata": {},
     "output_type": "execute_result"
    },
    {
     "data": {
      "image/png": "[encoded data removed]",
      "text/plain": [
       "<Figure size 432x288 with 1 Axes>"
      ]
     },
     "metadata": {
      "needs_background": "light"
     },
     "output_type": "display_data"
    }
   ],
   "source": [
    "df['salary'].plot.box()"
   ]
  },
  {
   "cell_type": "code",
   "execution_count": 136,
   "id": "368ce1f9",
   "metadata": {},
   "outputs": [],
   "source": [
    "# dropping outliers\n",
    "for x in ['salary']:\n",
    "    q75,q25 = np.percentile(df.loc[:,x],[75,25])\n",
    "    intr_qr = q75-q25\n",
    " \n",
    "    max = q75+(1.5*intr_qr)\n",
    "    min = q25-(1.5*intr_qr)\n",
    " \n",
    "    df.loc[df[x] < min,x] = np.nan\n",
    "    df.loc[df[x] > max,x] = np.nan"
   ]
  },
  {
   "cell_type": "code",
   "execution_count": 138,
   "id": "3872b66f",
   "metadata": {},
   "outputs": [],
   "source": [
    "df = df.dropna(axis=0)"
   ]
  },
  {
   "cell_type": "code",
   "execution_count": 139,
   "id": "41eab04c",
   "metadata": {},
   "outputs": [
    {
     "data": {
      "text/plain": [
       "(394, 6)"
      ]
     },
     "execution_count": 139,
     "metadata": {},
     "output_type": "execute_result"
    }
   ],
   "source": [
    "df.shape"
   ]
  },
  {
   "cell_type": "code",
   "execution_count": 140,
   "id": "7af3e1b9",
   "metadata": {},
   "outputs": [
    {
     "data": {
      "text/plain": [
       "(array([  9,  19,  24,  34,  35,  46,  47,  51,  62,  67,  83,  89, 102,\n",
       "        113, 118, 122, 126, 130, 131, 132, 147, 152, 178, 185, 217, 229,\n",
       "        230, 232, 236, 244, 251, 252, 272, 314, 321, 328, 330, 332, 339,\n",
       "        356, 359], dtype=int64),\n",
       " array([4, 4, 4, 4, 4, 4, 4, 4, 4, 4, 4, 4, 4, 4, 4, 4, 4, 3, 4, 4, 4, 4,\n",
       "        4, 4, 4, 4, 4, 4, 4, 4, 4, 4, 4, 4, 4, 3, 4, 4, 4, 4, 4],\n",
       "       dtype=int64))"
      ]
     },
     "execution_count": 140,
     "metadata": {},
     "output_type": "execute_result"
    }
   ],
   "source": [
    "from scipy.stats import zscore\n",
    "z = np.abs(zscore(df))\n",
    "threshold = 3\n",
    "np.where(z>3)"
   ]
  },
  {
   "cell_type": "code",
   "execution_count": 155,
   "id": "629c5473",
   "metadata": {},
   "outputs": [],
   "source": [
    "# separating features\n",
    "x = df.drop('salary', axis=1)\n",
    "y = df['salary']"
   ]
  },
  {
   "cell_type": "code",
   "execution_count": 156,
   "id": "1b9f3ece",
   "metadata": {},
   "outputs": [],
   "source": [
    "# Normalization\n",
    "mms = MinMaxScaler()\n",
    "lr = LinearRegression()"
   ]
  },
  {
   "cell_type": "code",
   "execution_count": 157,
   "id": "bfa7f02f",
   "metadata": {},
   "outputs": [
    {
     "name": "stdout",
     "output_type": "stream",
     "text": [
      "At random state 0, the training accuracy is: 0.41839102385828153\n",
      "At random state 0, the testing accuracy is: 0.36599072390716414\n",
      "\n",
      "\n",
      "At random state 1, the training accuracy is: 0.3992750598729028\n",
      "At random state 1, the testing accuracy is: 0.4334627876859869\n",
      "\n",
      "\n",
      "At random state 2, the training accuracy is: 0.40237543823485333\n",
      "At random state 2, the testing accuracy is: 0.41628885721172726\n",
      "\n",
      "\n",
      "At random state 3, the training accuracy is: 0.39419302909331244\n",
      "At random state 3, the testing accuracy is: 0.4536138935106774\n",
      "\n",
      "\n",
      "At random state 4, the training accuracy is: 0.4070306805472742\n",
      "At random state 4, the testing accuracy is: 0.40531336130924833\n",
      "\n",
      "\n",
      "At random state 5, the training accuracy is: 0.4431043208833373\n",
      "At random state 5, the testing accuracy is: 0.26759838594325525\n",
      "\n",
      "\n",
      "At random state 6, the training accuracy is: 0.40683389074015375\n",
      "At random state 6, the testing accuracy is: 0.40304521478738564\n",
      "\n",
      "\n",
      "At random state 7, the training accuracy is: 0.40929842112458803\n",
      "At random state 7, the testing accuracy is: 0.3757787638249739\n",
      "\n",
      "\n",
      "At random state 8, the training accuracy is: 0.41346257310221635\n",
      "At random state 8, the testing accuracy is: 0.3610623445091361\n",
      "\n",
      "\n",
      "At random state 9, the training accuracy is: 0.40176343655043933\n",
      "At random state 9, the testing accuracy is: 0.41898170617302155\n",
      "\n",
      "\n",
      "At random state 10, the training accuracy is: 0.42500765698142706\n",
      "At random state 10, the testing accuracy is: 0.3132150450767238\n",
      "\n",
      "\n",
      "At random state 11, the training accuracy is: 0.4324707814508856\n",
      "At random state 11, the testing accuracy is: 0.29386706510359795\n",
      "\n",
      "\n",
      "At random state 12, the training accuracy is: 0.38692878087301585\n",
      "At random state 12, the testing accuracy is: 0.4886509414141822\n",
      "\n",
      "\n",
      "At random state 13, the training accuracy is: 0.38157738173287103\n",
      "At random state 13, the testing accuracy is: 0.47422492414568307\n",
      "\n",
      "\n",
      "At random state 14, the training accuracy is: 0.4429255663049747\n",
      "At random state 14, the testing accuracy is: 0.22626412641267657\n",
      "\n",
      "\n",
      "At random state 15, the training accuracy is: 0.3861665764264609\n",
      "At random state 15, the testing accuracy is: 0.4780197964388584\n",
      "\n",
      "\n",
      "At random state 16, the training accuracy is: 0.42281521071485806\n",
      "At random state 16, the testing accuracy is: 0.32878294452614887\n",
      "\n",
      "\n",
      "At random state 17, the training accuracy is: 0.41229882500650095\n",
      "At random state 17, the testing accuracy is: 0.3868237801030521\n",
      "\n",
      "\n",
      "At random state 18, the training accuracy is: 0.39613501789157424\n",
      "At random state 18, the testing accuracy is: 0.44746759400280867\n",
      "\n",
      "\n",
      "At random state 19, the training accuracy is: 0.39084161443439047\n",
      "At random state 19, the testing accuracy is: 0.4686726993369744\n",
      "\n",
      "\n",
      "At random state 20, the training accuracy is: 0.386369930706839\n",
      "At random state 20, the testing accuracy is: 0.46383052990483753\n",
      "\n",
      "\n",
      "At random state 21, the training accuracy is: 0.4291661209834027\n",
      "At random state 21, the testing accuracy is: 0.2698716595249172\n",
      "\n",
      "\n",
      "At random state 22, the training accuracy is: 0.39753892304513994\n",
      "At random state 22, the testing accuracy is: 0.4312910815008498\n",
      "\n",
      "\n",
      "At random state 23, the training accuracy is: 0.4525801416144969\n",
      "At random state 23, the testing accuracy is: 0.1554432754164602\n",
      "\n",
      "\n",
      "At random state 24, the training accuracy is: 0.397097102610137\n",
      "At random state 24, the testing accuracy is: 0.4454099291908912\n",
      "\n",
      "\n",
      "At random state 25, the training accuracy is: 0.449495552407426\n",
      "At random state 25, the testing accuracy is: 0.22371277656145983\n",
      "\n",
      "\n",
      "At random state 26, the training accuracy is: 0.4158680380000046\n",
      "At random state 26, the testing accuracy is: 0.36226126513202195\n",
      "\n",
      "\n",
      "At random state 27, the training accuracy is: 0.4119460422802119\n",
      "At random state 27, the testing accuracy is: 0.3845412607305708\n",
      "\n",
      "\n",
      "At random state 28, the training accuracy is: 0.4352451382609851\n",
      "At random state 28, the testing accuracy is: 0.28393780665769375\n",
      "\n",
      "\n",
      "At random state 29, the training accuracy is: 0.40226594023180173\n",
      "At random state 29, the testing accuracy is: 0.3947378558469854\n",
      "\n",
      "\n",
      "At random state 30, the training accuracy is: 0.39698962520965053\n",
      "At random state 30, the testing accuracy is: 0.3808863430931396\n",
      "\n",
      "\n",
      "At random state 31, the training accuracy is: 0.42251562213283\n",
      "At random state 31, the testing accuracy is: 0.27430467578400464\n",
      "\n",
      "\n",
      "At random state 32, the training accuracy is: 0.4065139410686427\n",
      "At random state 32, the testing accuracy is: 0.40635181286837985\n",
      "\n",
      "\n",
      "At random state 33, the training accuracy is: 0.43157403671243033\n",
      "At random state 33, the testing accuracy is: 0.2910602101518679\n",
      "\n",
      "\n",
      "At random state 34, the training accuracy is: 0.39805548482280717\n",
      "At random state 34, the testing accuracy is: 0.4363317498711806\n",
      "\n",
      "\n",
      "At random state 35, the training accuracy is: 0.398008919153074\n",
      "At random state 35, the testing accuracy is: 0.44251754962202183\n",
      "\n",
      "\n",
      "At random state 36, the training accuracy is: 0.3955472334157871\n",
      "At random state 36, the testing accuracy is: 0.4561070875691927\n",
      "\n",
      "\n",
      "At random state 37, the training accuracy is: 0.44514843468622645\n",
      "At random state 37, the testing accuracy is: 0.23058750043609721\n",
      "\n",
      "\n",
      "At random state 38, the training accuracy is: 0.3878090239067832\n",
      "At random state 38, the testing accuracy is: 0.470412453114303\n",
      "\n",
      "\n",
      "At random state 39, the training accuracy is: 0.3937661183372573\n",
      "At random state 39, the testing accuracy is: 0.45906925096807116\n",
      "\n",
      "\n",
      "At random state 40, the training accuracy is: 0.4148179659907394\n",
      "At random state 40, the testing accuracy is: 0.36912134474208336\n",
      "\n",
      "\n",
      "At random state 41, the training accuracy is: 0.39462969950597226\n",
      "At random state 41, the testing accuracy is: 0.44833884654927203\n",
      "\n",
      "\n",
      "At random state 42, the training accuracy is: 0.4038997291168316\n",
      "At random state 42, the testing accuracy is: 0.42452154035867384\n",
      "\n",
      "\n",
      "At random state 43, the training accuracy is: 0.427309857576883\n",
      "At random state 43, the testing accuracy is: 0.31516021653983084\n",
      "\n",
      "\n",
      "At random state 44, the training accuracy is: 0.4204759172296315\n",
      "At random state 44, the testing accuracy is: 0.3265511548457599\n",
      "\n",
      "\n",
      "At random state 45, the training accuracy is: 0.4289723188697746\n",
      "At random state 45, the testing accuracy is: 0.29929676394306215\n",
      "\n",
      "\n",
      "At random state 46, the training accuracy is: 0.42161681873718737\n",
      "At random state 46, the testing accuracy is: 0.33751045720969586\n",
      "\n",
      "\n",
      "At random state 47, the training accuracy is: 0.4134910661425618\n",
      "At random state 47, the testing accuracy is: 0.3619447337619264\n",
      "\n",
      "\n",
      "At random state 48, the training accuracy is: 0.42786895127302593\n",
      "At random state 48, the testing accuracy is: 0.2930336843192438\n",
      "\n",
      "\n",
      "At random state 49, the training accuracy is: 0.40195385164733\n",
      "At random state 49, the testing accuracy is: 0.3901954370585283\n",
      "\n",
      "\n",
      "At random state 50, the training accuracy is: 0.42558750328865724\n",
      "At random state 50, the testing accuracy is: 0.3320954886526539\n",
      "\n",
      "\n",
      "At random state 51, the training accuracy is: 0.39402326897137907\n",
      "At random state 51, the testing accuracy is: 0.4507322151601173\n",
      "\n",
      "\n",
      "At random state 52, the training accuracy is: 0.43885038753324834\n",
      "At random state 52, the testing accuracy is: 0.26688104015068703\n",
      "\n",
      "\n",
      "At random state 53, the training accuracy is: 0.41639558553932754\n",
      "At random state 53, the testing accuracy is: 0.30923771375732034\n",
      "\n",
      "\n",
      "At random state 54, the training accuracy is: 0.4087765972266255\n",
      "At random state 54, the testing accuracy is: 0.3388098289411515\n",
      "\n",
      "\n",
      "At random state 55, the training accuracy is: 0.38021906306176523\n",
      "At random state 55, the testing accuracy is: 0.49742059316086207\n",
      "\n",
      "\n",
      "At random state 56, the training accuracy is: 0.4147505723382755\n",
      "At random state 56, the testing accuracy is: 0.3693396930797477\n",
      "\n",
      "\n",
      "At random state 57, the training accuracy is: 0.3848018891963758\n",
      "At random state 57, the testing accuracy is: 0.4764912785848787\n",
      "\n",
      "\n",
      "At random state 58, the training accuracy is: 0.45206061198167313\n",
      "At random state 58, the testing accuracy is: 0.21463819776207071\n",
      "\n",
      "\n",
      "At random state 59, the training accuracy is: 0.41793327085021337\n",
      "At random state 59, the testing accuracy is: 0.34749773223932\n",
      "\n",
      "\n",
      "At random state 60, the training accuracy is: 0.4606626784388711\n",
      "At random state 60, the testing accuracy is: 0.14324031383621116\n",
      "\n",
      "\n",
      "At random state 61, the training accuracy is: 0.42089487652796376\n",
      "At random state 61, the testing accuracy is: 0.35300604900566823\n",
      "\n",
      "\n",
      "At random state 62, the training accuracy is: 0.4198795039182456\n",
      "At random state 62, the testing accuracy is: 0.3284107584862993\n",
      "\n",
      "\n",
      "At random state 63, the training accuracy is: 0.41656323962753883\n",
      "At random state 63, the testing accuracy is: 0.3476903820012096\n",
      "\n",
      "\n",
      "At random state 64, the training accuracy is: 0.37993772805264225\n",
      "At random state 64, the testing accuracy is: 0.504907536052839\n",
      "\n",
      "\n",
      "At random state 65, the training accuracy is: 0.39081805343955356\n",
      "At random state 65, the testing accuracy is: 0.44269197514839365\n",
      "\n",
      "\n",
      "At random state 66, the training accuracy is: 0.40805525617041716\n",
      "At random state 66, the testing accuracy is: 0.4040343997144038\n",
      "\n",
      "\n",
      "At random state 67, the training accuracy is: 0.4244697648163076\n",
      "At random state 67, the testing accuracy is: 0.3244567557499388\n",
      "\n",
      "\n",
      "At random state 68, the training accuracy is: 0.43634636584370223\n",
      "At random state 68, the testing accuracy is: 0.2690883099108291\n",
      "\n",
      "\n",
      "At random state 69, the training accuracy is: 0.4027745828962974\n",
      "At random state 69, the testing accuracy is: 0.4242284237086894\n",
      "\n",
      "\n",
      "At random state 70, the training accuracy is: 0.3969292521327392\n",
      "At random state 70, the testing accuracy is: 0.42723376847449657\n",
      "\n",
      "\n",
      "At random state 71, the training accuracy is: 0.40982242417296866\n",
      "At random state 71, the testing accuracy is: 0.3953778729151046\n",
      "\n",
      "\n",
      "At random state 72, the training accuracy is: 0.394699749153016\n",
      "At random state 72, the testing accuracy is: 0.47017607683724505\n",
      "\n",
      "\n",
      "At random state 73, the training accuracy is: 0.41573306367689133\n",
      "At random state 73, the testing accuracy is: 0.3677415173965387\n",
      "\n",
      "\n",
      "At random state 74, the training accuracy is: 0.38834459656754317\n",
      "At random state 74, the testing accuracy is: 0.47075942866863885\n",
      "\n",
      "\n",
      "At random state 75, the training accuracy is: 0.39144845223171565\n",
      "At random state 75, the testing accuracy is: 0.4576292937296098\n",
      "\n",
      "\n",
      "At random state 76, the training accuracy is: 0.40482805930787624\n",
      "At random state 76, the testing accuracy is: 0.4201558136328568\n",
      "\n",
      "\n",
      "At random state 77, the training accuracy is: 0.4225222434938868\n",
      "At random state 77, the testing accuracy is: 0.3254067932990631\n",
      "\n",
      "\n",
      "At random state 78, the training accuracy is: 0.3918176917136561\n",
      "At random state 78, the testing accuracy is: 0.4807700301560973\n",
      "\n",
      "\n",
      "At random state 79, the training accuracy is: 0.41867608360877806\n",
      "At random state 79, the testing accuracy is: 0.344965906089454\n",
      "\n",
      "\n",
      "At random state 80, the training accuracy is: 0.39001631113203816\n",
      "At random state 80, the testing accuracy is: 0.4695652437107637\n",
      "\n",
      "\n"
     ]
    },
    {
     "name": "stdout",
     "output_type": "stream",
     "text": [
      "At random state 81, the training accuracy is: 0.39776329345489336\n",
      "At random state 81, the testing accuracy is: 0.43472959742321016\n",
      "\n",
      "\n",
      "At random state 82, the training accuracy is: 0.40217604498526127\n",
      "At random state 82, the testing accuracy is: 0.432492271918527\n",
      "\n",
      "\n",
      "At random state 83, the training accuracy is: 0.4171930768424357\n",
      "At random state 83, the testing accuracy is: 0.37016194447273865\n",
      "\n",
      "\n",
      "At random state 84, the training accuracy is: 0.40692952577193986\n",
      "At random state 84, the testing accuracy is: 0.39513213243536127\n",
      "\n",
      "\n",
      "At random state 85, the training accuracy is: 0.40972063344345455\n",
      "At random state 85, the testing accuracy is: 0.3964486942860953\n",
      "\n",
      "\n",
      "At random state 86, the training accuracy is: 0.40233521900514735\n",
      "At random state 86, the testing accuracy is: 0.42838010480772337\n",
      "\n",
      "\n",
      "At random state 87, the training accuracy is: 0.40987309162882424\n",
      "At random state 87, the testing accuracy is: 0.3582362221738865\n",
      "\n",
      "\n",
      "At random state 88, the training accuracy is: 0.4050209164002432\n",
      "At random state 88, the testing accuracy is: 0.402556564494401\n",
      "\n",
      "\n",
      "At random state 89, the training accuracy is: 0.39961274795267543\n",
      "At random state 89, the testing accuracy is: 0.4291854860224529\n",
      "\n",
      "\n",
      "At random state 90, the training accuracy is: 0.4266187852585953\n",
      "At random state 90, the testing accuracy is: 0.3377427392531537\n",
      "\n",
      "\n",
      "At random state 91, the training accuracy is: 0.41597023831906954\n",
      "At random state 91, the testing accuracy is: 0.37011605827785043\n",
      "\n",
      "\n",
      "At random state 92, the training accuracy is: 0.372204252218566\n",
      "At random state 92, the testing accuracy is: 0.510201258083929\n",
      "\n",
      "\n",
      "At random state 93, the training accuracy is: 0.3955734371450703\n",
      "At random state 93, the testing accuracy is: 0.4390399806183811\n",
      "\n",
      "\n",
      "At random state 94, the training accuracy is: 0.41310384124951693\n",
      "At random state 94, the testing accuracy is: 0.3604663709769397\n",
      "\n",
      "\n",
      "At random state 95, the training accuracy is: 0.39660026405967597\n",
      "At random state 95, the testing accuracy is: 0.43321026812301944\n",
      "\n",
      "\n",
      "At random state 96, the training accuracy is: 0.3775410903181725\n",
      "At random state 96, the testing accuracy is: 0.5319999936049975\n",
      "\n",
      "\n",
      "At random state 97, the training accuracy is: 0.42392653183260953\n",
      "At random state 97, the testing accuracy is: 0.3224620197958269\n",
      "\n",
      "\n",
      "At random state 98, the training accuracy is: 0.40757017504113335\n",
      "At random state 98, the testing accuracy is: 0.3964091645891826\n",
      "\n",
      "\n",
      "At random state 99, the training accuracy is: 0.4007166110430921\n",
      "At random state 99, the testing accuracy is: 0.42791859622309025\n",
      "\n",
      "\n"
     ]
    }
   ],
   "source": [
    "for i in range(0,100):\n",
    "    x_train, x_test, y_train, y_test = train_test_split(x,y, test_size=0.2, random_state=i)\n",
    "    lr.fit(x_train,y_train)\n",
    "    pred_train = lr.predict(x_train)\n",
    "    pred_test = lr.predict(x_test)\n",
    "    print(f\"At random state {i}, the training accuracy is: {r2_score(y_train,pred_train)}\")\n",
    "    print(f\"At random state {i}, the testing accuracy is: {r2_score(y_test,pred_test)}\")\n",
    "    print('\\n')"
   ]
  },
  {
   "cell_type": "code",
   "execution_count": 158,
   "id": "bb3f19f1",
   "metadata": {},
   "outputs": [],
   "source": [
    "x_train, x_test, y_train, y_test = train_test_split(x,y, test_size=0.2, random_state=42)"
   ]
  },
  {
   "cell_type": "code",
   "execution_count": 159,
   "id": "a1018746",
   "metadata": {},
   "outputs": [
    {
     "data": {
      "text/plain": [
       "LinearRegression()"
      ]
     },
     "execution_count": 159,
     "metadata": {},
     "output_type": "execute_result"
    }
   ],
   "source": [
    "lr.fit(x_train, y_train)"
   ]
  },
  {
   "cell_type": "code",
   "execution_count": 160,
   "id": "458121ad",
   "metadata": {},
   "outputs": [],
   "source": [
    "pred_test = lr.predict(x_test)"
   ]
  },
  {
   "cell_type": "code",
   "execution_count": 161,
   "id": "fe300d6f",
   "metadata": {},
   "outputs": [
    {
     "name": "stdout",
     "output_type": "stream",
     "text": [
      "0.42452154035867384\n"
     ]
    }
   ],
   "source": [
    "print(r2_score(y_test, pred_test))"
   ]
  },
  {
   "cell_type": "code",
   "execution_count": 162,
   "id": "c0a34485",
   "metadata": {},
   "outputs": [
    {
     "name": "stdout",
     "output_type": "stream",
     "text": [
      "At cross fold 2, cv score is 0.3665071969721237 and accuracy score for training is -0.4001372683727704 and accuracy score for testing is 0.42452154035867384\n",
      "\n",
      "\n",
      "At cross fold 3, cv score is 0.34181227520087737 and accuracy score for training is -0.4001372683727704 and accuracy score for testing is 0.42452154035867384\n",
      "\n",
      "\n",
      "At cross fold 4, cv score is 0.3528438285100078 and accuracy score for training is -0.4001372683727704 and accuracy score for testing is 0.42452154035867384\n",
      "\n",
      "\n",
      "At cross fold 5, cv score is 0.3209609810936954 and accuracy score for training is -0.4001372683727704 and accuracy score for testing is 0.42452154035867384\n",
      "\n",
      "\n",
      "At cross fold 6, cv score is 0.357893188588702 and accuracy score for training is -0.4001372683727704 and accuracy score for testing is 0.42452154035867384\n",
      "\n",
      "\n",
      "At cross fold 7, cv score is 0.3466997458604929 and accuracy score for training is -0.4001372683727704 and accuracy score for testing is 0.42452154035867384\n",
      "\n",
      "\n",
      "At cross fold 8, cv score is 0.35729595335143965 and accuracy score for training is -0.4001372683727704 and accuracy score for testing is 0.42452154035867384\n",
      "\n",
      "\n",
      "At cross fold 9, cv score is 0.3341746399171236 and accuracy score for training is -0.4001372683727704 and accuracy score for testing is 0.42452154035867384\n",
      "\n",
      "\n"
     ]
    }
   ],
   "source": [
    "# cross validation\n",
    "train_accuracy = r2_score(y_train,pred_train)\n",
    "test_accuracy = r2_score(y_test,pred_test)\n",
    "for i in range(2,10):\n",
    "    cv_score = cross_val_score(lr,x,y, cv=i)\n",
    "    cv_mean = cv_score.mean()\n",
    "    print(f'At cross fold {i}, cv score is {cv_mean} and accuracy score for training is {train_accuracy} and accuracy score for testing is {test_accuracy}')\n",
    "    print('\\n')"
   ]
  },
  {
   "cell_type": "code",
   "execution_count": 163,
   "id": "f73343d7",
   "metadata": {},
   "outputs": [
    {
     "data": {
      "image/png": "[encoded data removed]",
      "text/plain": [
       "<Figure size 576x432 with 1 Axes>"
      ]
     },
     "metadata": {
      "needs_background": "light"
     },
     "output_type": "display_data"
    }
   ],
   "source": [
    "plt.figure(figsize=(8,6))\n",
    "plt.scatter(x=y_test, y=pred_test, color='b')\n",
    "plt.plot(y_test,y_test, color='r')\n",
    "plt.title('Linear Regression')\n",
    "plt.xlabel('Actual Salary')\n",
    "plt.ylabel('Predicted Salary')\n",
    "plt.show()"
   ]
  },
  {
   "cell_type": "code",
   "execution_count": 164,
   "id": "bf88d1c4",
   "metadata": {},
   "outputs": [
    {
     "name": "stdout",
     "output_type": "stream",
     "text": [
      "{'alpha': 0.0001, 'random_state': 0}\n"
     ]
    }
   ],
   "source": [
    "# Regularization\n",
    "from sklearn.model_selection import GridSearchCV\n",
    "from sklearn.linear_model import Lasso\n",
    "parameters = {'alpha':[.0001,.001,.01,.1,1,10],\n",
    "             'random_state':list(range(0,10))}\n",
    "ls = Lasso()\n",
    "clf = GridSearchCV(ls,parameters)\n",
    "clf.fit(x_train,y_train)\n",
    "print(clf.best_params_)"
   ]
  },
  {
   "cell_type": "code",
   "execution_count": 165,
   "id": "3164c6d8",
   "metadata": {},
   "outputs": [
    {
     "data": {
      "text/plain": [
       "40.38973222012484"
      ]
     },
     "execution_count": 165,
     "metadata": {},
     "output_type": "execute_result"
    }
   ],
   "source": [
    "ls = Lasso(alpha=0.0001, random_state=0)\n",
    "ls.fit(x_train,y_train)\n",
    "ls_score_training = ls.score(x_train,y_train)\n",
    "pred_ls = ls.predict(x_test)\n",
    "ls_score_training*100"
   ]
  },
  {
   "cell_type": "code",
   "execution_count": 166,
   "id": "9630988c",
   "metadata": {},
   "outputs": [
    {
     "data": {
      "text/plain": [
       "42.45838468659372"
      ]
     },
     "execution_count": 166,
     "metadata": {},
     "output_type": "execute_result"
    }
   ],
   "source": [
    "lss = r2_score(y_test,pred_ls)\n",
    "lss*100"
   ]
  },
  {
   "cell_type": "code",
   "execution_count": 167,
   "id": "ff752533",
   "metadata": {},
   "outputs": [
    {
     "name": "stdout",
     "output_type": "stream",
     "text": [
      "{'criterion': 'mae', 'max_features': 'sqrt'}\n"
     ]
    }
   ],
   "source": [
    "from sklearn.ensemble import RandomForestRegressor\n",
    "parameters = {'criterion':['mse', 'mae'],\n",
    "             'max_features':['auto', 'sqrt', 'log2']}\n",
    "rf = RandomForestRegressor()\n",
    "clf = GridSearchCV(rf, parameters)\n",
    "clf.fit(x_train, y_train)\n",
    "print(clf.best_params_)"
   ]
  },
  {
   "cell_type": "code",
   "execution_count": 168,
   "id": "3f2cae99",
   "metadata": {},
   "outputs": [
    {
     "name": "stdout",
     "output_type": "stream",
     "text": [
      "61.01907178346123\n",
      "35.45260774221798\n"
     ]
    }
   ],
   "source": [
    "rf = RandomForestRegressor(criterion='mae', max_features='sqrt')\n",
    "rf.fit(x_train,y_train)\n",
    "rf.score(x_train,y_train)\n",
    "pred_dec = rf.predict(x_test)\n",
    "\n",
    "rfs = r2_score(y_test, pred_dec)\n",
    "print(rfs*100)\n",
    "\n",
    "rfscore = cross_val_score(rf,x,y,cv=5)\n",
    "rfc = rfscore.mean()\n",
    "print(rfc*100)"
   ]
  },
  {
   "cell_type": "code",
   "execution_count": null,
   "id": "b6f4cee1",
   "metadata": {},
   "outputs": [],
   "source": []
  }
 ],
 "metadata": {
  "kernelspec": {
   "display_name": "Python 3",
   "language": "python",
   "name": "python3"
  },
  "language_info": {
   "codemirror_mode": {
    "name": "ipython",
    "version": 3
   },
   "file_extension": ".py",
   "mimetype": "text/x-python",
   "name": "python",
   "nbconvert_exporter": "python",
   "pygments_lexer": "ipython3",
   "version": "3.8.8"
  }
 },
 "nbformat": 4,
 "nbformat_minor": 5
}
