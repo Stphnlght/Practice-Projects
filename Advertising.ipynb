{
 "cells": [
  {
   "cell_type": "code",
   "execution_count": 1,
   "id": "10a00b94",
   "metadata": {},
   "outputs": [],
   "source": [
    "# importing relevant libraries\n",
    "import numpy as np\n",
    "import pandas as pd\n",
    "import seaborn as sns\n",
    "import sklearn\n",
    "import matplotlib.pyplot as plt\n",
    "from sklearn.model_selection import cross_val_score\n",
    "from sklearn.linear_model import LinearRegression\n",
    "from sklearn.metrics import accuracy_score, confusion_matrix, classification_report, r2_score\n",
    "from sklearn.model_selection import train_test_split\n",
    "import warnings\n",
    "warnings.filterwarnings('ignore')\n",
    "from sklearn.preprocessing import MinMaxScaler"
   ]
  },
  {
   "cell_type": "code",
   "execution_count": 2,
   "id": "0f3a8ff0",
   "metadata": {},
   "outputs": [
    {
     "data": {
      "text/plain": [
       "Index(['Unnamed: 0', 'TV', 'radio', 'newspaper', 'sales'], dtype='object')"
      ]
     },
     "execution_count": 2,
     "metadata": {},
     "output_type": "execute_result"
    }
   ],
   "source": [
    "# importing the dataset\n",
    "df = pd.read_csv('Advertising.csv')\n",
    "df.columns"
   ]
  },
  {
   "cell_type": "code",
   "execution_count": 3,
   "id": "2d18f54b",
   "metadata": {},
   "outputs": [
    {
     "data": {
      "text/html": [
       "<div>\n",
       "<style scoped>\n",
       "    .dataframe tbody tr th:only-of-type {\n",
       "        vertical-align: middle;\n",
       "    }\n",
       "\n",
       "    .dataframe tbody tr th {\n",
       "        vertical-align: top;\n",
       "    }\n",
       "\n",
       "    .dataframe thead th {\n",
       "        text-align: right;\n",
       "    }\n",
       "</style>\n",
       "<table border=\"1\" class=\"dataframe\">\n",
       "  <thead>\n",
       "    <tr style=\"text-align: right;\">\n",
       "      <th></th>\n",
       "      <th>Unnamed: 0</th>\n",
       "      <th>TV</th>\n",
       "      <th>radio</th>\n",
       "      <th>newspaper</th>\n",
       "      <th>sales</th>\n",
       "    </tr>\n",
       "  </thead>\n",
       "  <tbody>\n",
       "    <tr>\n",
       "      <th>0</th>\n",
       "      <td>1</td>\n",
       "      <td>230.1</td>\n",
       "      <td>37.8</td>\n",
       "      <td>69.2</td>\n",
       "      <td>22.1</td>\n",
       "    </tr>\n",
       "    <tr>\n",
       "      <th>1</th>\n",
       "      <td>2</td>\n",
       "      <td>44.5</td>\n",
       "      <td>39.3</td>\n",
       "      <td>45.1</td>\n",
       "      <td>10.4</td>\n",
       "    </tr>\n",
       "    <tr>\n",
       "      <th>2</th>\n",
       "      <td>3</td>\n",
       "      <td>17.2</td>\n",
       "      <td>45.9</td>\n",
       "      <td>69.3</td>\n",
       "      <td>9.3</td>\n",
       "    </tr>\n",
       "    <tr>\n",
       "      <th>3</th>\n",
       "      <td>4</td>\n",
       "      <td>151.5</td>\n",
       "      <td>41.3</td>\n",
       "      <td>58.5</td>\n",
       "      <td>18.5</td>\n",
       "    </tr>\n",
       "    <tr>\n",
       "      <th>4</th>\n",
       "      <td>5</td>\n",
       "      <td>180.8</td>\n",
       "      <td>10.8</td>\n",
       "      <td>58.4</td>\n",
       "      <td>12.9</td>\n",
       "    </tr>\n",
       "    <tr>\n",
       "      <th>5</th>\n",
       "      <td>6</td>\n",
       "      <td>8.7</td>\n",
       "      <td>48.9</td>\n",
       "      <td>75.0</td>\n",
       "      <td>7.2</td>\n",
       "    </tr>\n",
       "    <tr>\n",
       "      <th>6</th>\n",
       "      <td>7</td>\n",
       "      <td>57.5</td>\n",
       "      <td>32.8</td>\n",
       "      <td>23.5</td>\n",
       "      <td>11.8</td>\n",
       "    </tr>\n",
       "    <tr>\n",
       "      <th>7</th>\n",
       "      <td>8</td>\n",
       "      <td>120.2</td>\n",
       "      <td>19.6</td>\n",
       "      <td>11.6</td>\n",
       "      <td>13.2</td>\n",
       "    </tr>\n",
       "    <tr>\n",
       "      <th>8</th>\n",
       "      <td>9</td>\n",
       "      <td>8.6</td>\n",
       "      <td>2.1</td>\n",
       "      <td>1.0</td>\n",
       "      <td>4.8</td>\n",
       "    </tr>\n",
       "    <tr>\n",
       "      <th>9</th>\n",
       "      <td>10</td>\n",
       "      <td>199.8</td>\n",
       "      <td>2.6</td>\n",
       "      <td>21.2</td>\n",
       "      <td>10.6</td>\n",
       "    </tr>\n",
       "  </tbody>\n",
       "</table>\n",
       "</div>"
      ],
      "text/plain": [
       "   Unnamed: 0     TV  radio  newspaper  sales\n",
       "0           1  230.1   37.8       69.2   22.1\n",
       "1           2   44.5   39.3       45.1   10.4\n",
       "2           3   17.2   45.9       69.3    9.3\n",
       "3           4  151.5   41.3       58.5   18.5\n",
       "4           5  180.8   10.8       58.4   12.9\n",
       "5           6    8.7   48.9       75.0    7.2\n",
       "6           7   57.5   32.8       23.5   11.8\n",
       "7           8  120.2   19.6       11.6   13.2\n",
       "8           9    8.6    2.1        1.0    4.8\n",
       "9          10  199.8    2.6       21.2   10.6"
      ]
     },
     "execution_count": 3,
     "metadata": {},
     "output_type": "execute_result"
    }
   ],
   "source": [
    "# let's see the 1st ten data points\n",
    "df.head(10)"
   ]
  },
  {
   "cell_type": "code",
   "execution_count": 4,
   "id": "a5483415",
   "metadata": {},
   "outputs": [
    {
     "data": {
      "text/plain": [
       "Unnamed: 0      int64\n",
       "TV            float64\n",
       "radio         float64\n",
       "newspaper     float64\n",
       "sales         float64\n",
       "dtype: object"
      ]
     },
     "execution_count": 4,
     "metadata": {},
     "output_type": "execute_result"
    }
   ],
   "source": [
    "# checking the data types\n",
    "df.dtypes"
   ]
  },
  {
   "cell_type": "raw",
   "id": "56f10e53",
   "metadata": {},
   "source": [
    "All the data types correspond correctly so there will be no need for any type casting"
   ]
  },
  {
   "cell_type": "code",
   "execution_count": 5,
   "id": "c561c124",
   "metadata": {},
   "outputs": [
    {
     "data": {
      "text/plain": [
       "Unnamed: 0    0\n",
       "TV            0\n",
       "radio         0\n",
       "newspaper     0\n",
       "sales         0\n",
       "dtype: int64"
      ]
     },
     "execution_count": 5,
     "metadata": {},
     "output_type": "execute_result"
    }
   ],
   "source": [
    "# checking for null values\n",
    "df.isnull().sum()"
   ]
  },
  {
   "cell_type": "raw",
   "id": "d8d47dac",
   "metadata": {},
   "source": [
    "There are no null values "
   ]
  },
  {
   "cell_type": "code",
   "execution_count": 6,
   "id": "273e5bbc",
   "metadata": {},
   "outputs": [
    {
     "data": {
      "text/plain": [
       "(200, 5)"
      ]
     },
     "execution_count": 6,
     "metadata": {},
     "output_type": "execute_result"
    }
   ],
   "source": [
    "# checking the shape\n",
    "df.shape"
   ]
  },
  {
   "cell_type": "code",
   "execution_count": 7,
   "id": "183cff5a",
   "metadata": {},
   "outputs": [
    {
     "data": {
      "text/html": [
       "<div>\n",
       "<style scoped>\n",
       "    .dataframe tbody tr th:only-of-type {\n",
       "        vertical-align: middle;\n",
       "    }\n",
       "\n",
       "    .dataframe tbody tr th {\n",
       "        vertical-align: top;\n",
       "    }\n",
       "\n",
       "    .dataframe thead th {\n",
       "        text-align: right;\n",
       "    }\n",
       "</style>\n",
       "<table border=\"1\" class=\"dataframe\">\n",
       "  <thead>\n",
       "    <tr style=\"text-align: right;\">\n",
       "      <th></th>\n",
       "      <th>Unnamed: 0</th>\n",
       "      <th>TV</th>\n",
       "      <th>radio</th>\n",
       "      <th>newspaper</th>\n",
       "      <th>sales</th>\n",
       "    </tr>\n",
       "  </thead>\n",
       "  <tbody>\n",
       "    <tr>\n",
       "      <th>count</th>\n",
       "      <td>200.000000</td>\n",
       "      <td>200.000000</td>\n",
       "      <td>200.000000</td>\n",
       "      <td>200.000000</td>\n",
       "      <td>200.000000</td>\n",
       "    </tr>\n",
       "    <tr>\n",
       "      <th>mean</th>\n",
       "      <td>100.500000</td>\n",
       "      <td>147.042500</td>\n",
       "      <td>23.264000</td>\n",
       "      <td>30.554000</td>\n",
       "      <td>14.022500</td>\n",
       "    </tr>\n",
       "    <tr>\n",
       "      <th>std</th>\n",
       "      <td>57.879185</td>\n",
       "      <td>85.854236</td>\n",
       "      <td>14.846809</td>\n",
       "      <td>21.778621</td>\n",
       "      <td>5.217457</td>\n",
       "    </tr>\n",
       "    <tr>\n",
       "      <th>min</th>\n",
       "      <td>1.000000</td>\n",
       "      <td>0.700000</td>\n",
       "      <td>0.000000</td>\n",
       "      <td>0.300000</td>\n",
       "      <td>1.600000</td>\n",
       "    </tr>\n",
       "    <tr>\n",
       "      <th>25%</th>\n",
       "      <td>50.750000</td>\n",
       "      <td>74.375000</td>\n",
       "      <td>9.975000</td>\n",
       "      <td>12.750000</td>\n",
       "      <td>10.375000</td>\n",
       "    </tr>\n",
       "    <tr>\n",
       "      <th>50%</th>\n",
       "      <td>100.500000</td>\n",
       "      <td>149.750000</td>\n",
       "      <td>22.900000</td>\n",
       "      <td>25.750000</td>\n",
       "      <td>12.900000</td>\n",
       "    </tr>\n",
       "    <tr>\n",
       "      <th>75%</th>\n",
       "      <td>150.250000</td>\n",
       "      <td>218.825000</td>\n",
       "      <td>36.525000</td>\n",
       "      <td>45.100000</td>\n",
       "      <td>17.400000</td>\n",
       "    </tr>\n",
       "    <tr>\n",
       "      <th>max</th>\n",
       "      <td>200.000000</td>\n",
       "      <td>296.400000</td>\n",
       "      <td>49.600000</td>\n",
       "      <td>114.000000</td>\n",
       "      <td>27.000000</td>\n",
       "    </tr>\n",
       "  </tbody>\n",
       "</table>\n",
       "</div>"
      ],
      "text/plain": [
       "       Unnamed: 0          TV       radio   newspaper       sales\n",
       "count  200.000000  200.000000  200.000000  200.000000  200.000000\n",
       "mean   100.500000  147.042500   23.264000   30.554000   14.022500\n",
       "std     57.879185   85.854236   14.846809   21.778621    5.217457\n",
       "min      1.000000    0.700000    0.000000    0.300000    1.600000\n",
       "25%     50.750000   74.375000    9.975000   12.750000   10.375000\n",
       "50%    100.500000  149.750000   22.900000   25.750000   12.900000\n",
       "75%    150.250000  218.825000   36.525000   45.100000   17.400000\n",
       "max    200.000000  296.400000   49.600000  114.000000   27.000000"
      ]
     },
     "execution_count": 7,
     "metadata": {},
     "output_type": "execute_result"
    }
   ],
   "source": [
    "# statistical description\n",
    "df.describe()"
   ]
  },
  {
   "cell_type": "code",
   "execution_count": 8,
   "id": "1f16ee86",
   "metadata": {},
   "outputs": [
    {
     "data": {
      "text/html": [
       "<div>\n",
       "<style scoped>\n",
       "    .dataframe tbody tr th:only-of-type {\n",
       "        vertical-align: middle;\n",
       "    }\n",
       "\n",
       "    .dataframe tbody tr th {\n",
       "        vertical-align: top;\n",
       "    }\n",
       "\n",
       "    .dataframe thead th {\n",
       "        text-align: right;\n",
       "    }\n",
       "</style>\n",
       "<table border=\"1\" class=\"dataframe\">\n",
       "  <thead>\n",
       "    <tr style=\"text-align: right;\">\n",
       "      <th></th>\n",
       "      <th>Unnamed: 0</th>\n",
       "      <th>TV</th>\n",
       "      <th>radio</th>\n",
       "      <th>newspaper</th>\n",
       "      <th>sales</th>\n",
       "    </tr>\n",
       "  </thead>\n",
       "  <tbody>\n",
       "    <tr>\n",
       "      <th>Unnamed: 0</th>\n",
       "      <td>1.000000</td>\n",
       "      <td>0.017715</td>\n",
       "      <td>-0.110680</td>\n",
       "      <td>-0.154944</td>\n",
       "      <td>-0.051616</td>\n",
       "    </tr>\n",
       "    <tr>\n",
       "      <th>TV</th>\n",
       "      <td>0.017715</td>\n",
       "      <td>1.000000</td>\n",
       "      <td>0.054809</td>\n",
       "      <td>0.056648</td>\n",
       "      <td>0.782224</td>\n",
       "    </tr>\n",
       "    <tr>\n",
       "      <th>radio</th>\n",
       "      <td>-0.110680</td>\n",
       "      <td>0.054809</td>\n",
       "      <td>1.000000</td>\n",
       "      <td>0.354104</td>\n",
       "      <td>0.576223</td>\n",
       "    </tr>\n",
       "    <tr>\n",
       "      <th>newspaper</th>\n",
       "      <td>-0.154944</td>\n",
       "      <td>0.056648</td>\n",
       "      <td>0.354104</td>\n",
       "      <td>1.000000</td>\n",
       "      <td>0.228299</td>\n",
       "    </tr>\n",
       "    <tr>\n",
       "      <th>sales</th>\n",
       "      <td>-0.051616</td>\n",
       "      <td>0.782224</td>\n",
       "      <td>0.576223</td>\n",
       "      <td>0.228299</td>\n",
       "      <td>1.000000</td>\n",
       "    </tr>\n",
       "  </tbody>\n",
       "</table>\n",
       "</div>"
      ],
      "text/plain": [
       "            Unnamed: 0        TV     radio  newspaper     sales\n",
       "Unnamed: 0    1.000000  0.017715 -0.110680  -0.154944 -0.051616\n",
       "TV            0.017715  1.000000  0.054809   0.056648  0.782224\n",
       "radio        -0.110680  0.054809  1.000000   0.354104  0.576223\n",
       "newspaper    -0.154944  0.056648  0.354104   1.000000  0.228299\n",
       "sales        -0.051616  0.782224  0.576223   0.228299  1.000000"
      ]
     },
     "execution_count": 8,
     "metadata": {},
     "output_type": "execute_result"
    }
   ],
   "source": [
    "# correlation\n",
    "df.corr()"
   ]
  },
  {
   "cell_type": "code",
   "execution_count": 9,
   "id": "f1e6edbd",
   "metadata": {},
   "outputs": [
    {
     "data": {
      "text/plain": [
       "<AxesSubplot:>"
      ]
     },
     "execution_count": 9,
     "metadata": {},
     "output_type": "execute_result"
    },
    {
     "data": {
      "image/png": "[encoded data removed]",
      "text/plain": [
       "<Figure size 432x288 with 2 Axes>"
      ]
     },
     "metadata": {
      "needs_background": "light"
     },
     "output_type": "display_data"
    }
   ],
   "source": [
    "sns.heatmap(df.corr(),annot=True,fmt='0.2f')"
   ]
  },
  {
   "cell_type": "raw",
   "id": "7e18717a",
   "metadata": {},
   "source": [
    "We can notice a positive correlation accross all the variables ranging from 0.2 to 0.7 which is a good sign"
   ]
  },
  {
   "cell_type": "code",
   "execution_count": 10,
   "id": "e0e783e2",
   "metadata": {},
   "outputs": [
    {
     "data": {
      "text/plain": [
       "<AxesSubplot:xlabel='sales', ylabel='TV'>"
      ]
     },
     "execution_count": 10,
     "metadata": {},
     "output_type": "execute_result"
    },
    {
     "data": {
      "image/png": "[encoded data removed]",
      "text/plain": [
       "<Figure size 432x288 with 1 Axes>"
      ]
     },
     "metadata": {
      "needs_background": "light"
     },
     "output_type": "display_data"
    }
   ],
   "source": [
    "# let's examine the relationship between the dependent and independent variables\n",
    "sns.regplot(x='sales', y='TV', data=df)"
   ]
  },
  {
   "cell_type": "raw",
   "id": "f78df9c6",
   "metadata": {},
   "source": [
    "We can see some strong positive relationship between TV Advertising and Sales. Implying more TV advetising lead to more sales"
   ]
  },
  {
   "cell_type": "code",
   "execution_count": 11,
   "id": "3916ce2e",
   "metadata": {},
   "outputs": [
    {
     "data": {
      "text/plain": [
       "<AxesSubplot:xlabel='sales', ylabel='radio'>"
      ]
     },
     "execution_count": 11,
     "metadata": {},
     "output_type": "execute_result"
    },
    {
     "data": {
      "image/png": "[encoded data removed]",
      "text/plain": [
       "<Figure size 432x288 with 1 Axes>"
      ]
     },
     "metadata": {
      "needs_background": "light"
     },
     "output_type": "display_data"
    }
   ],
   "source": [
    "sns.regplot(x='sales', y='radio', data=df)"
   ]
  },
  {
   "cell_type": "raw",
   "id": "37dcb9fe",
   "metadata": {},
   "source": [
    "We can also see some strong positive relationship between radio Advertising and Sales. Implying more radio advetising lead to more sales. However, we notice a lot of unsual results too which we will have to look into before model traning."
   ]
  },
  {
   "cell_type": "code",
   "execution_count": 12,
   "id": "d315f7d0",
   "metadata": {},
   "outputs": [
    {
     "data": {
      "text/plain": [
       "<AxesSubplot:xlabel='sales', ylabel='newspaper'>"
      ]
     },
     "execution_count": 12,
     "metadata": {},
     "output_type": "execute_result"
    },
    {
     "data": {
      "image/png": "[encoded data removed]",
      "text/plain": [
       "<Figure size 432x288 with 1 Axes>"
      ]
     },
     "metadata": {
      "needs_background": "light"
     },
     "output_type": "display_data"
    }
   ],
   "source": [
    "sns.regplot(x='sales', y='newspaper', data=df)"
   ]
  },
  {
   "cell_type": "raw",
   "id": "c24db073",
   "metadata": {},
   "source": [
    "There is a slightly positive relationship between the newspaper advert and sales, telling us that newspaper advert only influenced sales slightly, we can also notice some unusual results where very litlle advert boosted sales alot."
   ]
  },
  {
   "cell_type": "code",
   "execution_count": 13,
   "id": "365e0ad0",
   "metadata": {},
   "outputs": [
    {
     "data": {
      "image/png": "[encoded data removed]",
      "text/plain": [
       "<Figure size 432x288 with 1 Axes>"
      ]
     },
     "metadata": {
      "needs_background": "light"
     },
     "output_type": "display_data"
    },
    {
     "data": {
      "image/png": "[encoded data removed]",
      "text/plain": [
       "<Figure size 432x288 with 1 Axes>"
      ]
     },
     "metadata": {
      "needs_background": "light"
     },
     "output_type": "display_data"
    },
    {
     "data": {
      "image/png": "[encoded data removed]",
      "text/plain": [
       "<Figure size 432x288 with 1 Axes>"
      ]
     },
     "metadata": {
      "needs_background": "light"
     },
     "output_type": "display_data"
    },
    {
     "data": {
      "image/png": "[encoded data removed]",
      "text/plain": [
       "<Figure size 432x288 with 1 Axes>"
      ]
     },
     "metadata": {
      "needs_background": "light"
     },
     "output_type": "display_data"
    }
   ],
   "source": [
    "# Now let's check for outliers\n",
    "for i in df.columns[1:]:\n",
    "    plt.figure(i)\n",
    "    df[i].plot.box()"
   ]
  },
  {
   "cell_type": "raw",
   "id": "2a3688dc",
   "metadata": {},
   "source": [
    "We notice some outliers in the newspaper data. However, these are very few and we will not be removing them.\n",
    "We can also see that the means are not centralized we will look at the distribtions of the data next"
   ]
  },
  {
   "cell_type": "code",
   "execution_count": 14,
   "id": "53d9c12c",
   "metadata": {},
   "outputs": [
    {
     "data": {
      "image/png": "[encoded data removed]",
      "text/plain": [
       "<Figure size 432x288 with 1 Axes>"
      ]
     },
     "metadata": {
      "needs_background": "light"
     },
     "output_type": "display_data"
    },
    {
     "data": {
      "image/png": "[encoded data removed]",
      "text/plain": [
       "<Figure size 432x288 with 1 Axes>"
      ]
     },
     "metadata": {
      "needs_background": "light"
     },
     "output_type": "display_data"
    },
    {
     "data": {
      "image/png": "[encoded data removed]",
      "text/plain": [
       "<Figure size 432x288 with 1 Axes>"
      ]
     },
     "metadata": {
      "needs_background": "light"
     },
     "output_type": "display_data"
    },
    {
     "data": {
      "image/png": "[encoded data removed]",
      "text/plain": [
       "<Figure size 432x288 with 1 Axes>"
      ]
     },
     "metadata": {
      "needs_background": "light"
     },
     "output_type": "display_data"
    }
   ],
   "source": [
    "# Now lets check the distribution of the various features\n",
    "for i in df.columns[1:]:\n",
    "    plt.figure(i)\n",
    "    sns.distplot(df[i],kde=True)"
   ]
  },
  {
   "cell_type": "raw",
   "id": "91a83ef3",
   "metadata": {},
   "source": [
    "As we can see , the various independent variables do not have normally distributed data, we will apply some algorithms to try to fix that"
   ]
  },
  {
   "cell_type": "code",
   "execution_count": 15,
   "id": "0aefe935",
   "metadata": {},
   "outputs": [
    {
     "data": {
      "text/plain": [
       "TV           -0.069853\n",
       "Unnamed: 0    0.000000\n",
       "radio         0.094175\n",
       "sales         0.407571\n",
       "newspaper     0.894720\n",
       "dtype: float64"
      ]
     },
     "execution_count": 15,
     "metadata": {},
     "output_type": "execute_result"
    }
   ],
   "source": [
    "# Now let's check for skewness\n",
    "df.skew().sort_values()"
   ]
  },
  {
   "cell_type": "raw",
   "id": "f61440bf",
   "metadata": {},
   "source": [
    "The various skewness are less than 1 and -1 which is good"
   ]
  },
  {
   "cell_type": "markdown",
   "id": "6674ccd4",
   "metadata": {},
   "source": [
    "### Data Cleaning and Preprocessing"
   ]
  },
  {
   "cell_type": "code",
   "execution_count": 64,
   "id": "70ae757d",
   "metadata": {},
   "outputs": [],
   "source": [
    "df2 = df.copy()"
   ]
  },
  {
   "cell_type": "code",
   "execution_count": 19,
   "id": "166a57d8",
   "metadata": {},
   "outputs": [],
   "source": [
    "from sklearn.preprocessing import PowerTransformer\n",
    "power = PowerTransformer(method='box-cox', standardize=True)\n",
    "power2 = PowerTransformer(standardize=True)"
   ]
  },
  {
   "cell_type": "code",
   "execution_count": 20,
   "id": "d0b8d8f9",
   "metadata": {
    "collapsed": true
   },
   "outputs": [
    {
     "data": {
      "text/plain": [
       "array([[ 0.94725135],\n",
       "       [-1.18915505],\n",
       "       [-1.65248661],\n",
       "       [ 0.14442365],\n",
       "       [ 0.45459495],\n",
       "       [-1.83433789],\n",
       "       [-0.99900155],\n",
       "       [-0.20577958],\n",
       "       [-1.83671136],\n",
       "       [ 0.6483455 ],\n",
       "       [-0.87972165],\n",
       "       [ 0.79677355],\n",
       "       [-1.52856407],\n",
       "       [-0.47558208],\n",
       "       [ 0.6914819 ],\n",
       "       [ 0.60394238],\n",
       "       [-0.85665964],\n",
       "       [ 1.42998299],\n",
       "       [-0.83778591],\n",
       "       [ 0.09867196],\n",
       "       [ 0.83318933],\n",
       "       [ 1.01761387],\n",
       "       [-1.73394915],\n",
       "       [ 0.92980844],\n",
       "       [-0.93186864],\n",
       "       [ 1.25891988],\n",
       "       [ 0.05035737],\n",
       "       [ 1.04348792],\n",
       "       [ 1.12632525],\n",
       "       [-0.81901627],\n",
       "       [ 1.5347668 ],\n",
       "       [-0.29088917],\n",
       "       [-0.47925593],\n",
       "       [ 1.28408605],\n",
       "       [-0.49767197],\n",
       "       [ 1.51480948],\n",
       "       [ 1.29617813],\n",
       "       [-0.76462262],\n",
       "       [-1.21048311],\n",
       "       [ 0.92689764],\n",
       "       [ 0.67546044],\n",
       "       [ 0.41519038],\n",
       "       [ 1.54110825],\n",
       "       [ 0.71943713],\n",
       "       [-1.50533722],\n",
       "       [ 0.39540151],\n",
       "       [-0.57214327],\n",
       "       [ 1.04157406],\n",
       "       [ 0.91913038],\n",
       "       [-0.86884899],\n",
       "       [ 0.6483455 ],\n",
       "       [-0.44022561],\n",
       "       [ 0.81352625],\n",
       "       [ 0.47318111],\n",
       "       [ 1.25705292],\n",
       "       [ 0.63928497],\n",
       "       [-1.86829879],\n",
       "       [-0.02400259],\n",
       "       [ 0.75820312],\n",
       "       [ 0.75721159],\n",
       "       [-1.0561236 ],\n",
       "       [ 1.24397327],\n",
       "       [ 1.03582987],\n",
       "       [-0.41238252],\n",
       "       [-0.08127659],\n",
       "       [-0.84047572],\n",
       "       [-1.39539295],\n",
       "       [ 0.01052418],\n",
       "       [ 1.01761387],\n",
       "       [ 0.81746283],\n",
       "       [ 0.64129939],\n",
       "       [-0.32748368],\n",
       "       [-1.47545337],\n",
       "       [-0.10050252],\n",
       "       [ 0.78393819],\n",
       "       [-1.65840151],\n",
       "       [-1.46330001],\n",
       "       [-0.20231266],\n",
       "       [-1.91743498],\n",
       "       [-0.25456834],\n",
       "       [-0.74231005],\n",
       "       [ 1.04061697],\n",
       "       [-0.75673191],\n",
       "       [-0.84855798],\n",
       "       [ 0.78492628],\n",
       "       [ 0.5816385 ],\n",
       "       [-0.74361877],\n",
       "       [-0.31683071],\n",
       "       [-0.58971346],\n",
       "       [-0.32748368],\n",
       "       [-0.04527027],\n",
       "       [-1.44437114],\n",
       "       [ 0.82631287],\n",
       "       [ 1.14620105],\n",
       "       [-0.35600913],\n",
       "       [ 0.27115313],\n",
       "       [ 0.62617773],\n",
       "       [ 0.49685739],\n",
       "       [ 1.50572433],\n",
       "       [-0.03518592],\n",
       "       [ 0.87236856],\n",
       "       [ 1.56643287],\n",
       "       [ 1.41898224],\n",
       "       [ 0.5276189 ],\n",
       "       [ 1.02528861],\n",
       "       [-0.00504226],\n",
       "       [-1.50711203],\n",
       "       [-0.56338632],\n",
       "       [-1.73606585],\n",
       "       [ 1.18863971],\n",
       "       [ 0.90551966],\n",
       "       [ 1.05878315],\n",
       "       [ 0.40165694],\n",
       "       [ 0.74629617],\n",
       "       [-0.71883238],\n",
       "       [-0.75936023],\n",
       "       [ 0.00941372],\n",
       "       [-0.74231005],\n",
       "       [-0.14258789],\n",
       "       [-1.60993279],\n",
       "       [ 0.03268801],\n",
       "       [-1.62140118],\n",
       "       [ 0.88798621],\n",
       "       [-0.17236406],\n",
       "       [ 0.9414412 ],\n",
       "       [-0.60357207],\n",
       "       [-1.85598112],\n",
       "       [-0.69291863],\n",
       "       [ 0.85182371],\n",
       "       [-0.96944952],\n",
       "       [-2.07260094],\n",
       "       [ 1.28036215],\n",
       "       [-1.84148109],\n",
       "       [ 0.8469242 ],\n",
       "       [-1.30734088],\n",
       "       [-1.13216525],\n",
       "       [-1.49649197],\n",
       "       [ 1.35916908],\n",
       "       [-1.21201374],\n",
       "       [ 0.49685739],\n",
       "       [-0.78177892],\n",
       "       [ 0.58671364],\n",
       "       [ 0.85378266],\n",
       "       [-0.38951009],\n",
       "       [-0.49152458],\n",
       "       [ 0.02161689],\n",
       "       [ 1.04348792],\n",
       "       [ 1.0730973 ],\n",
       "       [-1.28985009],\n",
       "       [-1.18612326],\n",
       "       [ 1.42356745],\n",
       "       [-0.1965397 ],\n",
       "       [ 0.62617773],\n",
       "       [ 0.3556466 ],\n",
       "       [ 0.52659569],\n",
       "       [-1.95382334],\n",
       "       [-0.51987574],\n",
       "       [ 0.12594742],\n",
       "       [-1.76618468],\n",
       "       [-0.07450727],\n",
       "       [ 0.36822658],\n",
       "       [-0.62254748],\n",
       "       [ 0.53273272],\n",
       "       [ 0.27327906],\n",
       "       [-0.24058013],\n",
       "       [ 0.98973346],\n",
       "       [-1.63879354],\n",
       "       [ 0.71844051],\n",
       "       [ 0.8036761 ],\n",
       "       [ 1.45651536],\n",
       "       [-1.10706996],\n",
       "       [ 0.28389807],\n",
       "       [-1.60613163],\n",
       "       [ 0.32514499],\n",
       "       [ 0.87236856],\n",
       "       [ 1.38866352],\n",
       "       [ 1.12253419],\n",
       "       [ 0.34409376],\n",
       "       [ 1.38682286],\n",
       "       [ 0.29555862],\n",
       "       [ 0.199516  ],\n",
       "       [ 0.83417119],\n",
       "       [-1.0174434 ],\n",
       "       [ 1.48661756],\n",
       "       [ 1.17357401],\n",
       "       [ 0.70047888],\n",
       "       [ 0.01274446],\n",
       "       [ 0.56028358],\n",
       "       [ 1.47203441],\n",
       "       [-1.62332224],\n",
       "       [-1.26622024],\n",
       "       [-0.75410549],\n",
       "       [-1.65248661],\n",
       "       [ 0.30825511],\n",
       "       [ 0.1248588 ],\n",
       "       [-1.28668491],\n",
       "       [-0.51616709],\n",
       "       [ 0.41519038],\n",
       "       [ 1.4501178 ],\n",
       "       [ 0.96658868]])"
      ]
     },
     "execution_count": 20,
     "metadata": {},
     "output_type": "execute_result"
    }
   ],
   "source": [
    "power.fit_transform(df2['TV'].to_numpy().reshape(-1, 1))"
   ]
  },
  {
   "cell_type": "code",
   "execution_count": 21,
   "id": "6c93f1e4",
   "metadata": {},
   "outputs": [
    {
     "data": {
      "text/plain": [
       "<seaborn.axisgrid.FacetGrid at 0x229f123cf40>"
      ]
     },
     "execution_count": 21,
     "metadata": {},
     "output_type": "execute_result"
    },
    {
     "data": {
      "image/png": "[encoded data removed]",
      "text/plain": [
       "<Figure size 360x360 with 1 Axes>"
      ]
     },
     "metadata": {
      "needs_background": "light"
     },
     "output_type": "display_data"
    }
   ],
   "source": [
    "sns.displot(df2['TV'],kde=True)"
   ]
  },
  {
   "cell_type": "code",
   "execution_count": 22,
   "id": "41c374d7",
   "metadata": {},
   "outputs": [
    {
     "data": {
      "text/plain": [
       "<seaborn.axisgrid.FacetGrid at 0x229f0d8d2e0>"
      ]
     },
     "execution_count": 22,
     "metadata": {},
     "output_type": "execute_result"
    },
    {
     "data": {
      "image/png": "[encoded data removed]",
      "text/plain": [
       "<Figure size 360x360 with 1 Axes>"
      ]
     },
     "metadata": {
      "needs_background": "light"
     },
     "output_type": "display_data"
    }
   ],
   "source": [
    "power2.fit_transform(df2['radio'].to_numpy().reshape(-1, 1))\n",
    "sns.displot(df2['radio'],kde=True)"
   ]
  },
  {
   "cell_type": "code",
   "execution_count": 23,
   "id": "c96e7b4b",
   "metadata": {},
   "outputs": [
    {
     "data": {
      "text/plain": [
       "<seaborn.axisgrid.FacetGrid at 0x229f167cfd0>"
      ]
     },
     "execution_count": 23,
     "metadata": {},
     "output_type": "execute_result"
    },
    {
     "data": {
      "image/png": "[encoded data removed]",
      "text/plain": [
       "<Figure size 360x360 with 1 Axes>"
      ]
     },
     "metadata": {
      "needs_background": "light"
     },
     "output_type": "display_data"
    }
   ],
   "source": [
    "power.fit_transform(df2['newspaper'].to_numpy().reshape(-1, 1))\n",
    "sns.displot(df2['newspaper'],kde=True)"
   ]
  },
  {
   "cell_type": "code",
   "execution_count": 24,
   "id": "70da6da1",
   "metadata": {},
   "outputs": [],
   "source": [
    "# separating features\n",
    "x = df2.drop('sales', axis=1)\n",
    "y = df2['sales']"
   ]
  },
  {
   "cell_type": "code",
   "execution_count": 165,
   "id": "fb573880",
   "metadata": {},
   "outputs": [],
   "source": [
    "# Normalization\n",
    "lr = LinearRegression()"
   ]
  },
  {
   "cell_type": "code",
   "execution_count": 166,
   "id": "31e9784b",
   "metadata": {},
   "outputs": [
    {
     "name": "stdout",
     "output_type": "stream",
     "text": [
      "At random state 0, the training accuracy is: 0.9073274552252846\n",
      "At random state 0, the testing accuracy is: 0.856480214327925\n",
      "\n",
      "\n",
      "At random state 1, the training accuracy is: 0.8959391993971187\n",
      "At random state 1, the testing accuracy is: 0.8928781912093182\n",
      "\n",
      "\n",
      "At random state 2, the training accuracy is: 0.9152614531156523\n",
      "At random state 2, the testing accuracy is: 0.7570326409482366\n",
      "\n",
      "\n",
      "At random state 3, the training accuracy is: 0.8931443451313652\n",
      "At random state 3, the testing accuracy is: 0.9134449674582059\n",
      "\n",
      "\n",
      "At random state 4, the training accuracy is: 0.8911682084041699\n",
      "At random state 4, the testing accuracy is: 0.9084934434517352\n",
      "\n",
      "\n",
      "At random state 5, the training accuracy is: 0.89570620107301\n",
      "At random state 5, the testing accuracy is: 0.8985195836305799\n",
      "\n",
      "\n",
      "At random state 6, the training accuracy is: 0.8915582028345674\n",
      "At random state 6, the testing accuracy is: 0.9219412229135809\n",
      "\n",
      "\n",
      "At random state 7, the training accuracy is: 0.8929171093102488\n",
      "At random state 7, the testing accuracy is: 0.9094946118605033\n",
      "\n",
      "\n",
      "At random state 8, the training accuracy is: 0.9089671598668994\n",
      "At random state 8, the testing accuracy is: 0.8454524606304806\n",
      "\n",
      "\n",
      "At random state 9, the training accuracy is: 0.8897879071515497\n",
      "At random state 9, the testing accuracy is: 0.9254791165935141\n",
      "\n",
      "\n",
      "At random state 10, the training accuracy is: 0.9210064755430887\n",
      "At random state 10, the testing accuracy is: 0.8350889287403334\n",
      "\n",
      "\n",
      "At random state 11, the training accuracy is: 0.9111623809104602\n",
      "At random state 11, the testing accuracy is: 0.8449820092996336\n",
      "\n",
      "\n",
      "At random state 12, the training accuracy is: 0.8918075499129059\n",
      "At random state 12, the testing accuracy is: 0.9110007582766769\n",
      "\n",
      "\n",
      "At random state 13, the training accuracy is: 0.887016186914774\n",
      "At random state 13, the testing accuracy is: 0.930587014890429\n",
      "\n",
      "\n",
      "At random state 14, the training accuracy is: 0.9086355983008996\n",
      "At random state 14, the testing accuracy is: 0.8549475163509118\n",
      "\n",
      "\n",
      "At random state 15, the training accuracy is: 0.8938079254185115\n",
      "At random state 15, the testing accuracy is: 0.9055692412310968\n",
      "\n",
      "\n",
      "At random state 16, the training accuracy is: 0.8926643673594483\n",
      "At random state 16, the testing accuracy is: 0.9179051167419225\n",
      "\n",
      "\n",
      "At random state 17, the training accuracy is: 0.9116703196823303\n",
      "At random state 17, the testing accuracy is: 0.8260144163842627\n",
      "\n",
      "\n",
      "At random state 18, the training accuracy is: 0.9058537276169787\n",
      "At random state 18, the testing accuracy is: 0.8692586836034338\n",
      "\n",
      "\n",
      "At random state 19, the training accuracy is: 0.8936964884458825\n",
      "At random state 19, the testing accuracy is: 0.9035293150713195\n",
      "\n",
      "\n",
      "At random state 20, the training accuracy is: 0.8940674217997686\n",
      "At random state 20, the testing accuracy is: 0.9028631545455051\n",
      "\n",
      "\n",
      "At random state 21, the training accuracy is: 0.8890540600770627\n",
      "At random state 21, the testing accuracy is: 0.9146569039385174\n",
      "\n",
      "\n",
      "At random state 22, the training accuracy is: 0.8899973381223143\n",
      "At random state 22, the testing accuracy is: 0.9182082402965809\n",
      "\n",
      "\n",
      "At random state 23, the training accuracy is: 0.8921767001074105\n",
      "At random state 23, the testing accuracy is: 0.9099324713476881\n",
      "\n",
      "\n",
      "At random state 24, the training accuracy is: 0.8948669853718487\n",
      "At random state 24, the testing accuracy is: 0.9031175758867456\n",
      "\n",
      "\n",
      "At random state 25, the training accuracy is: 0.901084029469538\n",
      "At random state 25, the testing accuracy is: 0.8720389628792304\n",
      "\n",
      "\n",
      "At random state 26, the training accuracy is: 0.9008142925470226\n",
      "At random state 26, the testing accuracy is: 0.8660817826604932\n",
      "\n",
      "\n",
      "At random state 27, the training accuracy is: 0.8949084508267352\n",
      "At random state 27, the testing accuracy is: 0.9055839757493602\n",
      "\n",
      "\n",
      "At random state 28, the training accuracy is: 0.8997566457323917\n",
      "At random state 28, the testing accuracy is: 0.882889952375476\n",
      "\n",
      "\n",
      "At random state 29, the training accuracy is: 0.8897990754621425\n",
      "At random state 29, the testing accuracy is: 0.9121642709962423\n",
      "\n",
      "\n",
      "At random state 30, the training accuracy is: 0.8935867104133169\n",
      "At random state 30, the testing accuracy is: 0.9070725716744538\n",
      "\n",
      "\n",
      "At random state 31, the training accuracy is: 0.8861151331622692\n",
      "At random state 31, the testing accuracy is: 0.9274231828872666\n",
      "\n",
      "\n",
      "At random state 32, the training accuracy is: 0.9172993061976911\n",
      "At random state 32, the testing accuracy is: 0.7769624816211902\n",
      "\n",
      "\n",
      "At random state 33, the training accuracy is: 0.896294422055296\n",
      "At random state 33, the testing accuracy is: 0.8938166042095906\n",
      "\n",
      "\n",
      "At random state 34, the training accuracy is: 0.8970815554113069\n",
      "At random state 34, the testing accuracy is: 0.8919648426080481\n",
      "\n",
      "\n",
      "At random state 35, the training accuracy is: 0.9149816013369179\n",
      "At random state 35, the testing accuracy is: 0.786373587730015\n",
      "\n",
      "\n",
      "At random state 36, the training accuracy is: 0.8887390025066806\n",
      "At random state 36, the testing accuracy is: 0.9265569630488937\n",
      "\n",
      "\n",
      "At random state 37, the training accuracy is: 0.8998734924150504\n",
      "At random state 37, the testing accuracy is: 0.883238146412001\n",
      "\n",
      "\n",
      "At random state 38, the training accuracy is: 0.8972914103912516\n",
      "At random state 38, the testing accuracy is: 0.8908696135503188\n",
      "\n",
      "\n",
      "At random state 39, the training accuracy is: 0.9002556473795614\n",
      "At random state 39, the testing accuracy is: 0.8690558832908658\n",
      "\n",
      "\n",
      "At random state 40, the training accuracy is: 0.9204058033654225\n",
      "At random state 40, the testing accuracy is: 0.7965905680536843\n",
      "\n",
      "\n",
      "At random state 41, the training accuracy is: 0.9006927327079468\n",
      "At random state 41, the testing accuracy is: 0.882047061468867\n",
      "\n",
      "\n",
      "At random state 42, the training accuracy is: 0.8957553000540606\n",
      "At random state 42, the testing accuracy is: 0.8986489151417082\n",
      "\n",
      "\n",
      "At random state 43, the training accuracy is: 0.8886405668646471\n",
      "At random state 43, the testing accuracy is: 0.9279997802005556\n",
      "\n",
      "\n",
      "At random state 44, the training accuracy is: 0.9065906284233083\n",
      "At random state 44, the testing accuracy is: 0.8309225032852494\n",
      "\n",
      "\n",
      "At random state 45, the training accuracy is: 0.8963875424029035\n",
      "At random state 45, the testing accuracy is: 0.8915316806090338\n",
      "\n",
      "\n",
      "At random state 46, the training accuracy is: 0.9036235036433334\n",
      "At random state 46, the testing accuracy is: 0.8503383755246358\n",
      "\n",
      "\n",
      "At random state 47, the training accuracy is: 0.8988386546103042\n",
      "At random state 47, the testing accuracy is: 0.8849834045904889\n",
      "\n",
      "\n",
      "At random state 48, the training accuracy is: 0.890542166403924\n",
      "At random state 48, the testing accuracy is: 0.9189262097926163\n",
      "\n",
      "\n",
      "At random state 49, the training accuracy is: 0.913865852180709\n",
      "At random state 49, the testing accuracy is: 0.823121632949481\n",
      "\n",
      "\n",
      "At random state 50, the training accuracy is: 0.9013718398317787\n",
      "At random state 50, the testing accuracy is: 0.847646437939772\n",
      "\n",
      "\n",
      "At random state 51, the training accuracy is: 0.8936175989328148\n",
      "At random state 51, the testing accuracy is: 0.9076546711720634\n",
      "\n",
      "\n",
      "At random state 52, the training accuracy is: 0.9018604295382086\n",
      "At random state 52, the testing accuracy is: 0.8807089729330375\n",
      "\n",
      "\n",
      "At random state 53, the training accuracy is: 0.888857938922339\n",
      "At random state 53, the testing accuracy is: 0.9251773581549692\n",
      "\n",
      "\n",
      "At random state 54, the training accuracy is: 0.8920887237166686\n",
      "At random state 54, the testing accuracy is: 0.9172149618279114\n",
      "\n",
      "\n",
      "At random state 55, the training accuracy is: 0.8949301607612739\n",
      "At random state 55, the testing accuracy is: 0.8978864477773827\n",
      "\n",
      "\n",
      "At random state 56, the training accuracy is: 0.8989201587327643\n",
      "At random state 56, the testing accuracy is: 0.8882246349534562\n",
      "\n",
      "\n",
      "At random state 57, the training accuracy is: 0.8825879766148067\n",
      "At random state 57, the testing accuracy is: 0.9408099432427622\n",
      "\n",
      "\n",
      "At random state 58, the training accuracy is: 0.9127355018257423\n",
      "At random state 58, the testing accuracy is: 0.8401442189987403\n",
      "\n",
      "\n",
      "At random state 59, the training accuracy is: 0.8893758445368163\n",
      "At random state 59, the testing accuracy is: 0.9250247055288898\n",
      "\n",
      "\n",
      "At random state 60, the training accuracy is: 0.8929488169971975\n",
      "At random state 60, the testing accuracy is: 0.9074416119003319\n",
      "\n",
      "\n",
      "At random state 61, the training accuracy is: 0.8995558396715964\n",
      "At random state 61, the testing accuracy is: 0.878101642882558\n",
      "\n",
      "\n",
      "At random state 62, the training accuracy is: 0.9120188082159291\n",
      "At random state 62, the testing accuracy is: 0.8418326614272956\n",
      "\n",
      "\n",
      "At random state 63, the training accuracy is: 0.8951057681539462\n",
      "At random state 63, the testing accuracy is: 0.9005058624602784\n",
      "\n",
      "\n",
      "At random state 64, the training accuracy is: 0.8977795664080803\n",
      "At random state 64, the testing accuracy is: 0.881799559582723\n",
      "\n",
      "\n",
      "At random state 65, the training accuracy is: 0.8969891176837769\n",
      "At random state 65, the testing accuracy is: 0.8942556589953752\n",
      "\n",
      "\n",
      "At random state 66, the training accuracy is: 0.8992060099166295\n",
      "At random state 66, the testing accuracy is: 0.8838295132236418\n",
      "\n",
      "\n",
      "At random state 67, the training accuracy is: 0.8995954079489461\n",
      "At random state 67, the testing accuracy is: 0.8813062371563375\n",
      "\n",
      "\n",
      "At random state 68, the training accuracy is: 0.9004472797727481\n",
      "At random state 68, the testing accuracy is: 0.8669862566176891\n",
      "\n",
      "\n",
      "At random state 69, the training accuracy is: 0.8870476050134384\n",
      "At random state 69, the testing accuracy is: 0.9233095015758521\n",
      "\n",
      "\n",
      "At random state 70, the training accuracy is: 0.8862589587247461\n",
      "At random state 70, the testing accuracy is: 0.9261899619072468\n",
      "\n",
      "\n",
      "At random state 71, the training accuracy is: 0.9170792242159567\n",
      "At random state 71, the testing accuracy is: 0.8214330315197064\n",
      "\n",
      "\n",
      "At random state 72, the training accuracy is: 0.8939630309765105\n",
      "At random state 72, the testing accuracy is: 0.9063814288042916\n",
      "\n",
      "\n",
      "At random state 73, the training accuracy is: 0.9081745525874727\n",
      "At random state 73, the testing accuracy is: 0.8382456514164829\n",
      "\n",
      "\n",
      "At random state 74, the training accuracy is: 0.8980451797105264\n",
      "At random state 74, the testing accuracy is: 0.8802918295913446\n",
      "\n",
      "\n",
      "At random state 75, the training accuracy is: 0.8944097316106918\n",
      "At random state 75, the testing accuracy is: 0.9074740863261651\n",
      "\n",
      "\n",
      "At random state 76, the training accuracy is: 0.9092071576699313\n",
      "At random state 76, the testing accuracy is: 0.7531289748171517\n",
      "\n",
      "\n",
      "At random state 77, the training accuracy is: 0.8859821552154191\n",
      "At random state 77, the testing accuracy is: 0.937956975915543\n",
      "\n",
      "\n",
      "At random state 78, the training accuracy is: 0.8957614044756782\n",
      "At random state 78, the testing accuracy is: 0.9027962436962178\n",
      "\n",
      "\n",
      "At random state 79, the training accuracy is: 0.8918809749821502\n",
      "At random state 79, the testing accuracy is: 0.9039590138288892\n",
      "\n",
      "\n"
     ]
    },
    {
     "name": "stdout",
     "output_type": "stream",
     "text": [
      "At random state 80, the training accuracy is: 0.9169729628077916\n",
      "At random state 80, the testing accuracy is: 0.8002879936768352\n",
      "\n",
      "\n",
      "At random state 81, the training accuracy is: 0.9035712487248864\n",
      "At random state 81, the testing accuracy is: 0.8609698767855936\n",
      "\n",
      "\n",
      "At random state 82, the training accuracy is: 0.9154275126468338\n",
      "At random state 82, the testing accuracy is: 0.8013214526563002\n",
      "\n",
      "\n",
      "At random state 83, the training accuracy is: 0.8842230653829803\n",
      "At random state 83, the testing accuracy is: 0.936533183297641\n",
      "\n",
      "\n",
      "At random state 84, the training accuracy is: 0.8954723130793452\n",
      "At random state 84, the testing accuracy is: 0.8982625547501828\n",
      "\n",
      "\n",
      "At random state 85, the training accuracy is: 0.9086556153894079\n",
      "At random state 85, the testing accuracy is: 0.8439750044569613\n",
      "\n",
      "\n",
      "At random state 86, the training accuracy is: 0.8941933141983467\n",
      "At random state 86, the testing accuracy is: 0.9101136416354886\n",
      "\n",
      "\n",
      "At random state 87, the training accuracy is: 0.9120854281966964\n",
      "At random state 87, the testing accuracy is: 0.7590318344044371\n",
      "\n",
      "\n",
      "At random state 88, the training accuracy is: 0.909607024863585\n",
      "At random state 88, the testing accuracy is: 0.8387190488012204\n",
      "\n",
      "\n",
      "At random state 89, the training accuracy is: 0.9007733237783739\n",
      "At random state 89, the testing accuracy is: 0.8715218402293795\n",
      "\n",
      "\n",
      "At random state 90, the training accuracy is: 0.9035155910972225\n",
      "At random state 90, the testing accuracy is: 0.847067995676283\n",
      "\n",
      "\n",
      "At random state 91, the training accuracy is: 0.8874503790642361\n",
      "At random state 91, the testing accuracy is: 0.9040620243534964\n",
      "\n",
      "\n",
      "At random state 92, the training accuracy is: 0.879228484038034\n",
      "At random state 92, the testing accuracy is: 0.9509833392692769\n",
      "\n",
      "\n",
      "At random state 93, the training accuracy is: 0.8934257355566151\n",
      "At random state 93, the testing accuracy is: 0.9092789029786972\n",
      "\n",
      "\n",
      "At random state 94, the training accuracy is: 0.9084405371218475\n",
      "At random state 94, the testing accuracy is: 0.855975645757024\n",
      "\n",
      "\n",
      "At random state 95, the training accuracy is: 0.893566152267436\n",
      "At random state 95, the testing accuracy is: 0.8951483094107863\n",
      "\n",
      "\n",
      "At random state 96, the training accuracy is: 0.9038616523881903\n",
      "At random state 96, the testing accuracy is: 0.858009872088536\n",
      "\n",
      "\n",
      "At random state 97, the training accuracy is: 0.8906962083562392\n",
      "At random state 97, the testing accuracy is: 0.9077630204640281\n",
      "\n",
      "\n",
      "At random state 98, the training accuracy is: 0.8820113423343214\n",
      "At random state 98, the testing accuracy is: 0.9393724951506759\n",
      "\n",
      "\n",
      "At random state 99, the training accuracy is: 0.8906644266587815\n",
      "At random state 99, the testing accuracy is: 0.9201416862699034\n",
      "\n",
      "\n"
     ]
    }
   ],
   "source": [
    "for i in range(0,100):\n",
    "    x_train, x_test, y_train, y_test = train_test_split(x,y, test_size=0.2, random_state=i)\n",
    "    lr.fit(x_train,y_train)\n",
    "    pred_train = lr.predict(x_train)\n",
    "    pred_test = lr.predict(x_test)\n",
    "    print(f\"At random state {i}, the training accuracy is: {r2_score(y_train,pred_train)}\")\n",
    "    print(f\"At random state {i}, the testing accuracy is: {r2_score(y_test,pred_test)}\")\n",
    "    print('\\n')"
   ]
  },
  {
   "cell_type": "code",
   "execution_count": 167,
   "id": "b025c338",
   "metadata": {},
   "outputs": [],
   "source": [
    "pred_test = lr.predict(x_test)"
   ]
  },
  {
   "cell_type": "code",
   "execution_count": 168,
   "id": "bad45fca",
   "metadata": {},
   "outputs": [
    {
     "data": {
      "image/png": "[encoded data removed]",
      "text/plain": [
       "<Figure size 576x432 with 1 Axes>"
      ]
     },
     "metadata": {
      "needs_background": "light"
     },
     "output_type": "display_data"
    }
   ],
   "source": [
    "plt.figure(figsize=(8,6))\n",
    "plt.scatter(x=y_test, y=pred_test, color='b')\n",
    "plt.plot(y_test,y_test, color='r')\n",
    "plt.title('Linear Regression')\n",
    "plt.xlabel('Actual Sales')\n",
    "plt.ylabel('Predicted Sales')\n",
    "plt.show()"
   ]
  },
  {
   "cell_type": "code",
   "execution_count": 27,
   "id": "572996fd",
   "metadata": {},
   "outputs": [],
   "source": [
    "x_train, x_test, y_train, y_test = train_test_split(x,y, test_size=0.2, random_state=98)"
   ]
  },
  {
   "cell_type": "code",
   "execution_count": 109,
   "id": "65133969",
   "metadata": {},
   "outputs": [],
   "source": [
    "#Create a function within many Machine Learning Models\n",
    "def models(x_train,y_train):\n",
    "  \n",
    "    #Using Linear Regression Algorithm to the Training Set\n",
    "    from sklearn.linear_model import LinearRegression\n",
    "    log = LinearRegression()\n",
    "    log.fit(x_train, y_train)\n",
    "\n",
    "    #Using AdaBoostRegressor \n",
    "    from sklearn.ensemble import AdaBoostRegressor\n",
    "    adb = AdaBoostRegressor()\n",
    "    adb.fit(x_train, y_train)\n",
    "\n",
    "    #Using KNNieghborsRegressor Method of neighbors class to use Nearest Neighbor algorithm\n",
    "    from sklearn.neighbors import KNeighborsRegressor\n",
    "    knr = KNeighborsRegressor()\n",
    "    knr.fit(x_train, y_train)\n",
    "\n",
    "    # Gradient Boost Regressor\n",
    "    from sklearn.ensemble import GradientBoostingRegressor\n",
    "    gbr = GradientBoostingRegressor()\n",
    "    gbr.fit(x_train, y_train)\n",
    "\n",
    "    # Using Gaussian Regressor method of naïve_bayes class to use Naïve Bayes Algorithm\n",
    "    from sklearn.gaussian_process import GaussianProcessRegressor\n",
    "    gauss = GaussianProcessRegressor()\n",
    "    gauss.fit(x_train, y_train)\n",
    "\n",
    "    #Using DecisionTreeRegressor of tree class to use Decision Tree Algorithm\n",
    "    from sklearn.tree import DecisionTreeRegressor\n",
    "    tree = DecisionTreeRegressor()\n",
    "    tree.fit(x_train, y_train)\n",
    "\n",
    "    #Using RandomForestClassifier method of ensemble class to use Random Forest Classification algorithm\n",
    "    from sklearn.ensemble import RandomForestRegressor\n",
    "    forest = RandomForestRegressor()\n",
    "    forest.fit(x_train, y_train)\n",
    "\n",
    "    #print model accuracy on the training data.\n",
    "    print('[0]Linear Regression Training Accuracy:', log.score(x_train, y_train))\n",
    "    print('[1]AdaBoost Regressor Training Accuracy:', adb.score(x_train, y_train))\n",
    "    print('[2]KNieghborsRegressor Training Accuracy:', knr.score(x_train, y_train))\n",
    "    print('[3]Gradient Boosting Regressor Training Accuracy:', gbr.score(x_train, y_train))\n",
    "    print('[4]Gaussian Regressor Training Accuracy:', gauss.score(x_train, y_train))\n",
    "    print('[5]Decision Tree Regressor Training Accuracy:', tree.score(x_train, y_train))\n",
    "    print('[6]Random Forest Regressor Training Accuracy:', forest.score(x_train, y_train))\n",
    "\n",
    "    return log, adb, knr, gbr, gauss, tree, forest"
   ]
  },
  {
   "cell_type": "code",
   "execution_count": 110,
   "id": "b963fd10",
   "metadata": {},
   "outputs": [
    {
     "name": "stdout",
     "output_type": "stream",
     "text": [
      "[0]Linear Regression Training Accuracy: 0.8820113423343214\n",
      "[1]AdaBoost Regressor Training Accuracy: 0.9767583895192811\n",
      "[2]KNieghborsRegressor Training Accuracy: 0.8338955462097075\n",
      "[3]Gradient Boosting Regressor Training Accuracy: 0.9988735418414443\n",
      "[4]Gaussian Regressor Training Accuracy: 1.0\n",
      "[5]Decision Tree Regressor Training Accuracy: 1.0\n",
      "[6]Random Forest Regressor Training Accuracy: 0.9963181793849663\n"
     ]
    }
   ],
   "source": [
    "model = models(x_train,y_train)"
   ]
  },
  {
   "cell_type": "code",
   "execution_count": 108,
   "id": "c29ed189",
   "metadata": {},
   "outputs": [
    {
     "name": "stdout",
     "output_type": "stream",
     "text": [
      "0.9710014050769117\n"
     ]
    }
   ],
   "source": [
    "print(adb.score(x_test,y_test))"
   ]
  },
  {
   "cell_type": "code",
   "execution_count": 115,
   "id": "fa60bae0",
   "metadata": {},
   "outputs": [
    {
     "name": "stdout",
     "output_type": "stream",
     "text": [
      "Model[0] Testing Accuracy = \"0.9393724951506759 !\"\n",
      "\n",
      "Model[1] Testing Accuracy = \"0.9661424847959871 !\"\n",
      "\n",
      "Model[2] Testing Accuracy = \"0.8044549588838099 !\"\n",
      "\n",
      "Model[3] Testing Accuracy = \"0.9795207705371635 !\"\n",
      "\n",
      "Model[4] Testing Accuracy = \"-5.66856762803777 !\"\n",
      "\n",
      "Model[5] Testing Accuracy = \"0.9624280576064222 !\"\n",
      "\n",
      "Model[6] Testing Accuracy = \"0.980201760309677 !\"\n",
      "\n"
     ]
    }
   ],
   "source": [
    "for i in range(len(model)):\n",
    "    cm = model[i].score(x_test,y_test)\n",
    "    \n",
    "    print('Model[{}] Testing Accuracy = \"{} !\"'.format(i, cm))\n",
    "    print()"
   ]
  },
  {
   "cell_type": "code",
   "execution_count": 158,
   "id": "67044cfd",
   "metadata": {},
   "outputs": [
    {
     "name": "stdout",
     "output_type": "stream",
     "text": [
      "{'criterion': 'mae', 'max_features': 'auto', 'n_estimators': 93}\n"
     ]
    }
   ],
   "source": [
    "# Regularization Random Forest Regressor\n",
    "from sklearn.model_selection import GridSearchCV\n",
    "from sklearn.ensemble import RandomForestRegressor\n",
    "parameters = {'criterion':['mae', 'poisson'],\n",
    "             'n_estimators':list(range(10,100)),\n",
    "             'max_features':['auto', 'sqrt', 'log2']}\n",
    "rfr = RandomForestRegressor()\n",
    "clf = GridSearchCV(rfr,parameters)\n",
    "clf.fit(x_train,y_train)\n",
    "print(clf.best_params_)"
   ]
  },
  {
   "cell_type": "code",
   "execution_count": 159,
   "id": "0d35eba9",
   "metadata": {},
   "outputs": [
    {
     "name": "stdout",
     "output_type": "stream",
     "text": [
      "98.11156466200191\n",
      "97.17888671395205\n"
     ]
    }
   ],
   "source": [
    "rfr = RandomForestRegressor(criterion='mae',max_features='auto', n_estimators=93)\n",
    "rfr.fit(x_train,y_train)\n",
    "rfr.score(x_train,y_train)\n",
    "pred_dec = rfr.predict(x_test)\n",
    "\n",
    "rfs = r2_score(y_test, pred_dec)\n",
    "print(rfs*100)\n",
    "\n",
    "rfscore = cross_val_score(rfr,x,y,cv=5)\n",
    "rfc = rfscore.mean()\n",
    "print(rfc*100)"
   ]
  },
  {
   "cell_type": "code",
   "execution_count": 127,
   "id": "39d8508c",
   "metadata": {},
   "outputs": [
    {
     "name": "stdout",
     "output_type": "stream",
     "text": [
      "{'fit_intercept': True, 'n_jobs': 1, 'normalize': True}\n"
     ]
    }
   ],
   "source": [
    "# Regularization Linear Regression\n",
    "from sklearn.linear_model import LinearRegression\n",
    "parameters = {'fit_intercept':[True,False],\n",
    "             'normalize':[True,False],\n",
    "             'n_jobs':[1,-1]}\n",
    "lr = LinearRegression()\n",
    "clf = GridSearchCV(lr,parameters)\n",
    "clf.fit(x_train,y_train)\n",
    "print(clf.best_params_)"
   ]
  },
  {
   "cell_type": "code",
   "execution_count": 130,
   "id": "0f3b5b76",
   "metadata": {},
   "outputs": [
    {
     "name": "stdout",
     "output_type": "stream",
     "text": [
      "93.93724951506759\n",
      "88.42777844741688\n"
     ]
    }
   ],
   "source": [
    "lr = LinearRegression(fit_intercept:=True, n_jobs=1, normalize=True)\n",
    "lr.fit(x_train,y_train)\n",
    "lr.score(x_train,y_train)\n",
    "pred_dec = lr.predict(x_test)\n",
    "\n",
    "lrs = r2_score(y_test, pred_dec)\n",
    "print(lrs*100)\n",
    "\n",
    "lrscore = cross_val_score(lr,x,y,cv=5)\n",
    "lrc = lrscore.mean()\n",
    "print(lrc*100)"
   ]
  },
  {
   "cell_type": "code",
   "execution_count": 142,
   "id": "eb4547c5",
   "metadata": {},
   "outputs": [
    {
     "name": "stdout",
     "output_type": "stream",
     "text": [
      "{'loss': 'exponential', 'n_estimators': 71, 'random_state': 1}\n"
     ]
    }
   ],
   "source": [
    "# Regularization Adaboost Regressor\n",
    "from sklearn.ensemble import AdaBoostRegressor\n",
    "parameters = {'loss':['linear','exponential','square'],\n",
    "             'n_estimators':list(range(10,100)),\n",
    "             'random_state':list(range(0,10))}\n",
    "abr = AdaBoostRegressor()\n",
    "clf = GridSearchCV(abr,parameters)\n",
    "clf.fit(x_train,y_train)\n",
    "print(clf.best_params_)"
   ]
  },
  {
   "cell_type": "code",
   "execution_count": 146,
   "id": "824c83ec",
   "metadata": {},
   "outputs": [
    {
     "name": "stdout",
     "output_type": "stream",
     "text": [
      "95.86222261928896\n",
      "95.45182027935354\n"
     ]
    }
   ],
   "source": [
    "abr = AdaBoostRegressor(loss='exponential',random_state=1,n_estimators=71)\n",
    "abr.fit(x_train,y_train)\n",
    "abr.score(x_train,y_train)\n",
    "pred_dec = abr.predict(x_test)\n",
    "\n",
    "absc = r2_score(y_test, pred_dec)\n",
    "print(absc*100)\n",
    "\n",
    "abscore = cross_val_score(abr,x,y,cv=5)\n",
    "abc = abscore.mean()\n",
    "print(abc*100)"
   ]
  },
  {
   "cell_type": "code",
   "execution_count": 150,
   "id": "19bfeaf6",
   "metadata": {},
   "outputs": [
    {
     "name": "stdout",
     "output_type": "stream",
     "text": [
      "{'criterion': 'friedman_mse', 'n_estimators': 93}\n"
     ]
    }
   ],
   "source": [
    "# Regularization Gradient Boosting Regressor\n",
    "from sklearn.ensemble import GradientBoostingRegressor\n",
    "parameters = {'n_estimators':list(range(10,100)),\n",
    "             'criterion':['squared_error','mse', 'friedman_mse']}\n",
    "gbr = GradientBoostingRegressor()\n",
    "clf = GridSearchCV(gbr,parameters)\n",
    "clf.fit(x_train,y_train)\n",
    "print(clf.best_params_)"
   ]
  },
  {
   "cell_type": "code",
   "execution_count": 151,
   "id": "d7f99ec2",
   "metadata": {},
   "outputs": [
    {
     "name": "stdout",
     "output_type": "stream",
     "text": [
      "95.86222261928896\n",
      "97.71380034117601\n"
     ]
    }
   ],
   "source": [
    "gbr = GradientBoostingRegressor(criterion='friedman_mse', n_estimators=93)\n",
    "gbr.fit(x_train,y_train)\n",
    "gbr.score(x_train,y_train)\n",
    "pred_dec = gbr.predict(x_test)\n",
    "\n",
    "gbsc = r2_score(y_test, pred_dec)\n",
    "print(absc*100)\n",
    "\n",
    "gbscore = cross_val_score(gbr,x,y,cv=5)\n",
    "gbc = gbscore.mean()\n",
    "print(gbc*100)"
   ]
  },
  {
   "cell_type": "code",
   "execution_count": 162,
   "id": "e15636d4",
   "metadata": {},
   "outputs": [
    {
     "name": "stdout",
     "output_type": "stream",
     "text": [
      "{'criterion': 'friedman_mse', 'min_samples_split': 5, 'splitter': 'random'}\n"
     ]
    }
   ],
   "source": [
    "# Regularization Decision Tree Regressor\n",
    "from sklearn.tree import DecisionTreeRegressor\n",
    "parameters = {'splitter':['best', 'random'],\n",
    "             'min_samples_split':list(range(1,10)),\n",
    "             'criterion':['squared_error','poisson', 'friedman_mse','absolute_error']}\n",
    "dtr = DecisionTreeRegressor()\n",
    "clf = GridSearchCV(dtr,parameters)\n",
    "clf.fit(x_train,y_train)\n",
    "print(clf.best_params_)"
   ]
  },
  {
   "cell_type": "code",
   "execution_count": 164,
   "id": "53d7f6a2",
   "metadata": {},
   "outputs": [
    {
     "name": "stdout",
     "output_type": "stream",
     "text": [
      "92.22957224155596\n",
      "93.15592990519932\n"
     ]
    }
   ],
   "source": [
    "dtr = DecisionTreeRegressor(criterion='friedman_mse', min_samples_split=5, splitter='random')\n",
    "dtr.fit(x_train,y_train)\n",
    "gbr.score(x_train,y_train)\n",
    "pred_dec = dtr.predict(x_test)\n",
    "\n",
    "dtsc = r2_score(y_test, pred_dec)\n",
    "print(dtsc*100)\n",
    "\n",
    "dtscore = cross_val_score(dtr,x,y,cv=5)\n",
    "dtc = dtscore.mean()\n",
    "print(dtc*100)"
   ]
  },
  {
   "cell_type": "raw",
   "id": "b5697390",
   "metadata": {},
   "source": [
    "When we look accross the various models, AdaBoostRegressor has the least difference between accuray score and cross_val_score so we will save it as our bes model"
   ]
  },
  {
   "cell_type": "code",
   "execution_count": 170,
   "id": "c6959f67",
   "metadata": {},
   "outputs": [
    {
     "ename": "TypeError",
     "evalue": "'AdaBoostRegressor' object is not callable",
     "output_type": "error",
     "traceback": [
      "\u001b[1;31m---------------------------------------------------------------------------\u001b[0m",
      "\u001b[1;31mTypeError\u001b[0m                                 Traceback (most recent call last)",
      "\u001b[1;32m<ipython-input-170-6230043f729a>\u001b[0m in \u001b[0;36m<module>\u001b[1;34m\u001b[0m\n\u001b[0;32m      1\u001b[0m \u001b[1;32mimport\u001b[0m \u001b[0mpickle\u001b[0m\u001b[1;33m\u001b[0m\u001b[1;33m\u001b[0m\u001b[0m\n\u001b[1;32m----> 2\u001b[1;33m \u001b[0mpickle\u001b[0m\u001b[1;33m.\u001b[0m\u001b[0mdump\u001b[0m\u001b[1;33m(\u001b[0m\u001b[0mabr\u001b[0m\u001b[1;33m(\u001b[0m\u001b[1;34m'abreg.pkl'\u001b[0m\u001b[1;33m)\u001b[0m\u001b[1;33m)\u001b[0m\u001b[1;33m\u001b[0m\u001b[1;33m\u001b[0m\u001b[0m\n\u001b[0m",
      "\u001b[1;31mTypeError\u001b[0m: 'AdaBoostRegressor' object is not callable"
     ]
    }
   ],
   "source": [
    "import pickle\n",
    "pickle.dump(abr, open('abreg.pkl'))"
   ]
  },
  {
   "cell_type": "code",
   "execution_count": null,
   "id": "05b01495",
   "metadata": {},
   "outputs": [],
   "source": []
  }
 ],
 "metadata": {
  "kernelspec": {
   "display_name": "Python 3",
   "language": "python",
   "name": "python3"
  },
  "language_info": {
   "codemirror_mode": {
    "name": "ipython",
    "version": 3
   },
   "file_extension": ".py",
   "mimetype": "text/x-python",
   "name": "python",
   "nbconvert_exporter": "python",
   "pygments_lexer": "ipython3",
   "version": "3.8.8"
  }
 },
 "nbformat": 4,
 "nbformat_minor": 5
}
